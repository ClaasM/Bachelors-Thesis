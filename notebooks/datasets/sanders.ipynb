{
 "cells": [
  {
   "cell_type": "code",
   "execution_count": 8,
   "metadata": {
    "collapsed": true
   },
   "outputs": [],
   "source": [
    "# Imports\n",
    "import csv\n",
    "import numpy as np\n",
    "import matplotlib.pyplot as plt\n",
    "\n",
    "# Ugly hackery, but necessary: stackoverflow.com/questions/4383571/importing-files-from-different-folder\n",
    "import sys\n",
    "sys.path.append('../../../')"
   ]
  },
  {
   "cell_type": "code",
   "execution_count": 9,
   "metadata": {},
   "outputs": [
    {
     "name": "stdout",
     "output_type": "stream",
     "text": [
      "4347\n",
      "454\n",
      "492\n"
     ]
    }
   ],
   "source": [
    "with open('./../../data/interim/sanders_hydrated.csv') as csv_file:\n",
    "    total = 0\n",
    "    iterator = csv.reader(csv_file, delimiter=',')\n",
    "    sentiment_count = {\n",
    "        \"neutral\":0,\n",
    "        \"irrelevant\":0,\n",
    "        \"positive\":0,\n",
    "        \"negative\":0\n",
    "    }\n",
    "    for (topic, sentiment, id, text) in iterator:\n",
    "        sentiment_count[sentiment]+=1\n",
    "        total+=1\n",
    "        \n",
    "print(total)\n",
    "print(sentiment_count[\"positive\"])\n",
    "print(sentiment_count[\"negative\"])"
   ]
  },
  {
   "cell_type": "code",
   "execution_count": 10,
   "metadata": {},
   "outputs": [
    {
     "name": "stdout",
     "output_type": "stream",
     "text": [
      "2946\n",
      "431\n",
      "481\n"
     ]
    }
   ],
   "source": [
    "with open('./../../data/interim/sanders_hydrated_en.csv') as csv_file:\n",
    "    total = 0\n",
    "    iterator = csv.reader(csv_file, delimiter=',')\n",
    "    sentiment_count = {\n",
    "        \"neutral\":0,\n",
    "        \"irrelevant\":0,\n",
    "        \"positive\":0,\n",
    "        \"negative\":0\n",
    "    }\n",
    "    for (topic, sentiment, id, text) in iterator:\n",
    "        sentiment_count[sentiment]+=1\n",
    "        total+=1\n",
    "        \n",
    "print(total)\n",
    "print(sentiment_count[\"positive\"])\n",
    "print(sentiment_count[\"negative\"])"
   ]
  },
  {
   "cell_type": "code",
   "execution_count": 11,
   "metadata": {},
   "outputs": [
    {
     "data": {
      "image/png": "[encoded data removed]",
      "text/plain": [
       "<matplotlib.figure.Figure at 0x108e4ef60>"
      ]
     },
     "metadata": {},
     "output_type": "display_data"
    }
   ],
   "source": [
    "sizes = np.fromiter(iter(sentiment_count.values()), dtype=int)\n",
    "labels = [\"neutral\", \"irrelevant\", \"positive\", \"negative\"]\n",
    "plt.figure(figsize=(5,5))\n",
    "\n",
    "plt.pie(sizes, labels=labels, shadow=False, autopct='%1.1f%%',)\n",
    "plt.axis('equal')\n",
    "plt.savefig('sanders_sentiment.pdf', format=\"pdf\",bbox_inches='tight')\n",
    "plt.show()"
   ]
  },
  {
   "cell_type": "code",
   "execution_count": null,
   "metadata": {
    "collapsed": true
   },
   "outputs": [],
   "source": []
  }
 ],
 "metadata": {
  "kernelspec": {
   "display_name": "Python 3",
   "language": "python",
   "name": "python3"
  },
  "language_info": {
   "codemirror_mode": {
    "name": "ipython",
    "version": 3
   },
   "file_extension": ".py",
   "mimetype": "text/x-python",
   "name": "python",
   "nbconvert_exporter": "python",
   "pygments_lexer": "ipython3",
   "version": "3.6.2"
  }
 },
 "nbformat": 4,
 "nbformat_minor": 1
}
