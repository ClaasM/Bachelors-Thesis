{
 "cells": [
  {
   "cell_type": "markdown",
   "metadata": {},
   "source": [
    "# Topic Modeling of Twitter Statuses with NMF TODO"
   ]
  },
  {
   "cell_type": "code",
   "execution_count": 4,
   "metadata": {},
   "outputs": [],
   "source": [
    "from gensim import corpora, models, similarities\n",
    "from pymongo import MongoClient\n",
    "import time\n",
    "import os\n",
    "import random\n",
    "import numpy as np\n",
    "import pyLDAvis.gensim\n",
    "import csv\n",
    "from collections import defaultdict\n",
    "\n",
    "# Ugly hackery, but necessary: stackoverflow.com/questions/4383571/importing-files-from-different-folder\n",
    "import sys\n",
    "sys.path.append('../../')\n",
    "\n",
    "from src.streaming import spark_functions\n",
    "\n",
    "preprocess = spark_functions.preprocessor()\n",
    "tokenize = spark_functions.tokenizer(remove_stopwords=True)"
   ]
  },
  {
   "cell_type": "markdown",
   "metadata": {},
   "source": [
    "## Creating the Corpus and Dictionary"
   ]
  },
  {
   "cell_type": "code",
   "execution_count": 5,
   "metadata": {
    "collapsed": true
   },
   "outputs": [],
   "source": [
    "# Get the tweets to be used\n",
    "with open('./../../data/interim/sanders_hydrated_en.csv') as csv_file:\n",
    "    iterator = csv.reader(csv_file, delimiter=',')\n",
    "    # Preprocess with the same preprocessing and tokenization function as usual\n",
    "    tweets = [\" \".join(tokenize(preprocess(text))) for (topic, sentiment, id, text) in iterator]"
   ]
  },
  {
   "cell_type": "markdown",
   "metadata": {},
   "source": [
    "## Train the NMF model"
   ]
  },
  {
   "cell_type": "code",
   "execution_count": 6,
   "metadata": {
    "scrolled": false
   },
   "outputs": [],
   "source": [
    "from sklearn.feature_extraction.text import TfidfVectorizer, CountVectorizer\n",
    "\n",
    "no_features = 1000\n",
    "\n",
    "# NMF is able to use tf-idf\n",
    "tfidf_vectorizer = TfidfVectorizer(max_df=0.95, min_df=2, max_features=no_features, stop_words='english')\n",
    "tfidf = tfidf_vectorizer.fit_transform(tweets)\n",
    "tfidf_feature_names = tfidf_vectorizer.get_feature_names()\n",
    "\n",
    "# LDA can only use raw term counts for LDA because it is a probabilistic graphical model\n",
    "tf_vectorizer = CountVectorizer(max_df=0.95, min_df=2, max_features=no_features, stop_words='english')\n",
    "tf = tf_vectorizer.fit_transform(tweets)\n",
    "tf_feature_names = tf_vectorizer.get_feature_names()"
   ]
  },
  {
   "cell_type": "code",
   "execution_count": 11,
   "metadata": {
    "collapsed": true
   },
   "outputs": [],
   "source": [
    "\n",
    "from sklearn.decomposition import NMF, LatentDirichletAllocation\n",
    "\n",
    "no_topics = 5\n",
    "\n",
    "# Run NMF\n",
    "nmf = NMF(n_components=no_topics, \n",
    "          random_state=1, \n",
    "          alpha=.1, \n",
    "          l1_ratio=.5, \n",
    "          init='nndsvd').fit(tfidf)"
   ]
  },
  {
   "cell_type": "markdown",
   "metadata": {},
   "source": [
    "## Some Experiments"
   ]
  },
  {
   "cell_type": "code",
   "execution_count": 12,
   "metadata": {},
   "outputs": [
    {
     "name": "stdout",
     "output_type": "stream",
     "text": [
      "Topic 0:\n",
      "cream ice sandwich android dhilipsiva\n",
      "Topic 1:\n",
      "nexus galaxy samsung android ics\n",
      "Topic 2:\n",
      "iphone million weekend battery sales\n",
      "Topic 3:\n",
      "ballmer steve windows android yahoo\n",
      "Topic 4:\n",
      "siri video network amazing gets\n"
     ]
    }
   ],
   "source": [
    "def display_topics(model, feature_names, no_top_words):\n",
    "    for topic_idx, topic in enumerate(model.components_):\n",
    "        print(\"Topic %d:\" % (topic_idx))\n",
    "        print(\" \".join([feature_names[i]\n",
    "                        for i in topic.argsort()[:-no_top_words - 1:-1]]))\n",
    "\n",
    "no_top_words = 5\n",
    "display_topics(nmf, tfidf_feature_names, no_top_words)"
   ]
  },
  {
   "cell_type": "code",
   "execution_count": 7,
   "metadata": {},
   "outputs": [
    {
     "ename": "NameError",
     "evalue": "name 'lda' is not defined",
     "output_type": "error",
     "traceback": [
      "\u001b[0;31m---------------------------------------------------------------------------\u001b[0m",
      "\u001b[0;31mNameError\u001b[0m                                 Traceback (most recent call last)",
      "\u001b[0;32m<ipython-input-7-208e39982e37>\u001b[0m in \u001b[0;36m<module>\u001b[0;34m()\u001b[0m\n\u001b[1;32m      2\u001b[0m \u001b[0mtopic_frequency\u001b[0m \u001b[0;34m=\u001b[0m \u001b[0mdefaultdict\u001b[0m\u001b[0;34m(\u001b[0m\u001b[0mint\u001b[0m\u001b[0;34m)\u001b[0m\u001b[0;34m\u001b[0m\u001b[0m\n\u001b[1;32m      3\u001b[0m \u001b[0;32mfor\u001b[0m \u001b[0mtweet\u001b[0m \u001b[0;32min\u001b[0m \u001b[0mtweets\u001b[0m\u001b[0;34m:\u001b[0m\u001b[0;34m\u001b[0m\u001b[0m\n\u001b[0;32m----> 4\u001b[0;31m     \u001b[0mtopics\u001b[0m \u001b[0;34m=\u001b[0m \u001b[0mlda\u001b[0m\u001b[0;34m[\u001b[0m\u001b[0mdictionary\u001b[0m\u001b[0;34m.\u001b[0m\u001b[0mdoc2bow\u001b[0m\u001b[0;34m(\u001b[0m\u001b[0mtweet\u001b[0m\u001b[0;34m[\u001b[0m\u001b[0;36m0\u001b[0m\u001b[0;34m]\u001b[0m\u001b[0;34m)\u001b[0m\u001b[0;34m]\u001b[0m\u001b[0;34m\u001b[0m\u001b[0m\n\u001b[0m\u001b[1;32m      5\u001b[0m     \u001b[0;32mfor\u001b[0m \u001b[0mtopic\u001b[0m \u001b[0;32min\u001b[0m \u001b[0mtopics\u001b[0m\u001b[0;34m:\u001b[0m\u001b[0;34m\u001b[0m\u001b[0m\n\u001b[1;32m      6\u001b[0m         \u001b[0;31m#print(topic)\u001b[0m\u001b[0;34m\u001b[0m\u001b[0;34m\u001b[0m\u001b[0m\n",
      "\u001b[0;31mNameError\u001b[0m: name 'lda' is not defined"
     ]
    }
   ],
   "source": [
    "# Pie chart of topics\n",
    "topic_frequency = defaultdict(int)\n",
    "for tweet in tweets:\n",
    "    topics = lda[dictionary.doc2bow(tweet[0])]\n",
    "    for topic in topics:\n",
    "        #print(topic)\n",
    "        topic_frequency[topic[0]] += topic[1]\n",
    "        \n",
    "\n",
    "import matplotlib.pyplot as plt\n",
    "labels,values = [],[]\n",
    "for key in topic_frequency:\n",
    "    values.append(topic_frequency[key])\n",
    "    labels.append(\", \".join(dictionary[term_id] for (term_id,_) in lda.get_topic_terms(topicid=key, topn=5)))\n",
    "plt.pie(values, labels=labels, shadow=False, autopct='%1.1f%%',)\n",
    "plt.savefig('topic_distribution.pdf', format=\"pdf\")\n",
    "plt.show()"
   ]
  },
  {
   "cell_type": "code",
   "execution_count": 55,
   "metadata": {},
   "outputs": [
    {
     "name": "stdout",
     "output_type": "stream",
     "text": [
      "lol i hate the stupid #iphone\n",
      "Probability 99%: ballmer, steve, yahoo, aqui, free\n",
      "android is pretty cool I guess, with the new ice cream sandwich update\n",
      "Probability 57%: android, nexus, samsung, galaxy, cream\n",
      "Probability 42%: ballmer, steve, yahoo, aqui, free\n"
     ]
    }
   ],
   "source": [
    "def print_topics(text):\n",
    "    doc_bow = [dictionary.doc2bow(text) for text in [tokenize(preprocess(text))]]\n",
    "    topics = lda[doc_bow][0]\n",
    "\n",
    "    print(text)\n",
    "    for topic in topics:  # Maximum 3 Topics per tweet\n",
    "        terms = lda.get_topic_terms(topicid=topic[0], topn=5) # Maximum 5 Terms per tweet\n",
    "        print(\"Probability %d%%: %s\" % (topic[1]*100, \", \".join(dictionary[term[0]] for term in terms)))\n",
    "        \n",
    "print_topics(\"lol i hate the stupid #iphone\")\n",
    "print_topics(\"android is pretty cool I guess, with the new ice cream sandwich update\")"
   ]
  },
  {
   "cell_type": "code",
   "execution_count": 28,
   "metadata": {},
   "outputs": [
    {
     "name": "stdout",
     "output_type": "stream",
     "text": [
      "1\n",
      "4347\n",
      "3957\n",
      "7\n"
     ]
    },
    {
     "data": {
      "text/html": [
       "<div>\n",
       "<style>\n",
       "    .dataframe thead tr:only-child th {\n",
       "        text-align: right;\n",
       "    }\n",
       "\n",
       "    .dataframe thead th {\n",
       "        text-align: left;\n",
       "    }\n",
       "\n",
       "    .dataframe tbody tr th {\n",
       "        vertical-align: top;\n",
       "    }\n",
       "</style>\n",
       "<table border=\"1\" class=\"dataframe\">\n",
       "  <thead>\n",
       "    <tr style=\"text-align: right;\">\n",
       "      <th></th>\n",
       "      <th>Freq</th>\n",
       "      <th>cluster</th>\n",
       "      <th>topics</th>\n",
       "      <th>x</th>\n",
       "      <th>y</th>\n",
       "    </tr>\n",
       "    <tr>\n",
       "      <th>topic</th>\n",
       "      <th></th>\n",
       "      <th></th>\n",
       "      <th></th>\n",
       "      <th></th>\n",
       "      <th></th>\n",
       "    </tr>\n",
       "  </thead>\n",
       "  <tbody>\n",
       "    <tr>\n",
       "      <th>4</th>\n",
       "      <td>29.385533</td>\n",
       "      <td>1</td>\n",
       "      <td>1</td>\n",
       "      <td>-0.113680</td>\n",
       "      <td>0.183263</td>\n",
       "    </tr>\n",
       "    <tr>\n",
       "      <th>0</th>\n",
       "      <td>21.947690</td>\n",
       "      <td>1</td>\n",
       "      <td>2</td>\n",
       "      <td>-0.120678</td>\n",
       "      <td>0.046538</td>\n",
       "    </tr>\n",
       "    <tr>\n",
       "      <th>1</th>\n",
       "      <td>19.418286</td>\n",
       "      <td>1</td>\n",
       "      <td>3</td>\n",
       "      <td>-0.042073</td>\n",
       "      <td>-0.211118</td>\n",
       "    </tr>\n",
       "    <tr>\n",
       "      <th>2</th>\n",
       "      <td>14.723970</td>\n",
       "      <td>1</td>\n",
       "      <td>4</td>\n",
       "      <td>0.354404</td>\n",
       "      <td>0.037260</td>\n",
       "    </tr>\n",
       "    <tr>\n",
       "      <th>3</th>\n",
       "      <td>14.524521</td>\n",
       "      <td>1</td>\n",
       "      <td>5</td>\n",
       "      <td>-0.077973</td>\n",
       "      <td>-0.055943</td>\n",
       "    </tr>\n",
       "  </tbody>\n",
       "</table>\n",
       "</div>"
      ],
      "text/plain": [
       "            Freq  cluster  topics         x         y\n",
       "topic                                                \n",
       "4      29.385533        1       1 -0.113680  0.183263\n",
       "0      21.947690        1       2 -0.120678  0.046538\n",
       "1      19.418286        1       3 -0.042073 -0.211118\n",
       "2      14.723970        1       4  0.354404  0.037260\n",
       "3      14.524521        1       5 -0.077973 -0.055943"
      ]
     },
     "execution_count": 28,
     "metadata": {},
     "output_type": "execute_result"
    }
   ],
   "source": [
    "print(len(doc_lda))\n",
    "print(len(corpus))\n",
    "print(len(dictionary))\n",
    "print(len(followers_data))\n",
    "followers_data[0]"
   ]
  },
  {
   "cell_type": "code",
   "execution_count": null,
   "metadata": {
    "collapsed": true
   },
   "outputs": [],
   "source": [
    "# How to access which topic the nth is?"
   ]
  }
 ],
 "metadata": {
  "kernelspec": {
   "display_name": "Python 3",
   "language": "python",
   "name": "python3"
  },
  "language_info": {
   "codemirror_mode": {
    "name": "ipython",
    "version": 3
   },
   "file_extension": ".py",
   "mimetype": "text/x-python",
   "name": "python",
   "nbconvert_exporter": "python",
   "pygments_lexer": "ipython3",
   "version": "3.6.2"
  }
 },
 "nbformat": 4,
 "nbformat_minor": 1
}
