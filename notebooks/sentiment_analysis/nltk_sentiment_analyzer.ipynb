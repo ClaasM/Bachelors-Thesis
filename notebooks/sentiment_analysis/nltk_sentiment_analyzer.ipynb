{
 "cells": [
  {
   "cell_type": "markdown",
   "metadata": {},
   "source": [
    "# Example from www.nltk.org/howto/sentiment.html\n",
    "# Testing different SA methods\n",
    "## nltk's sentiment analyzer"
   ]
  },
  {
   "cell_type": "code",
   "execution_count": 1,
   "metadata": {},
   "outputs": [],
   "source": [
    "import nltk\n",
    "import csv\n",
    "import pickle\n",
    "from nltk.classify import NaiveBayesClassifier\n",
    "from nltk.sentiment import SentimentAnalyzer\n",
    "import random"
   ]
  },
  {
   "cell_type": "code",
   "execution_count": 2,
   "metadata": {
    "collapsed": true
   },
   "outputs": [],
   "source": [
    "# This is specific to the dataset\n",
    "negative_label = 'negative'\n",
    "neutral_label = 'neutral'\n",
    "positive_label = 'positive'\n",
    "irrelevant_label = 'irrelevant'\n",
    "with open('./../../data/external/sanders.csv') as csv_file:\n",
    "    iterator = csv.reader(csv_file, delimiter=',')\n",
    "    # Only keep entries with positive or negative sentiment\n",
    "    tweets = [(tweet, sentiment) for (topic, sentiment, id, tweet) in iterator if sentiment == negative_label or sentiment == positive_label]\n",
    "    # The tweets are ordered, so shuffle for the training/test split\n",
    "    random.shuffle(tweets)"
   ]
  },
  {
   "cell_type": "code",
   "execution_count": 3,
   "metadata": {},
   "outputs": [
    {
     "data": {
      "text/plain": [
       "('\\'@Apple Would much rather get outta this having a ( see pic ) and have fun with this \" Have your friends choose music\" http://t.co/7IiHbr4J\\'',\n",
       " 'negative')"
      ]
     },
     "execution_count": 3,
     "metadata": {},
     "output_type": "execute_result"
    }
   ],
   "source": [
    "tweets[0]"
   ]
  },
  {
   "cell_type": "code",
   "execution_count": 4,
   "metadata": {},
   "outputs": [
    {
     "data": {
      "text/plain": [
       "945"
      ]
     },
     "execution_count": 4,
     "metadata": {},
     "output_type": "execute_result"
    }
   ],
   "source": [
    "len(tweets)"
   ]
  },
  {
   "cell_type": "code",
   "execution_count": 5,
   "metadata": {},
   "outputs": [],
   "source": [
    "# This is also specific to the dataset\n",
    "def preprocess(tweets):\n",
    "    tokenizer = nltk.tokenize.TweetTokenizer()\n",
    "    preprocessed_tweets = []\n",
    "    for (text, sentiment) in tweets:\n",
    "        words_filtered = tokenizer.tokenize(text)\n",
    "        preprocessed_tweets.append((words_filtered, sentiment))\n",
    "    return preprocessed_tweets"
   ]
  },
  {
   "cell_type": "code",
   "execution_count": 6,
   "metadata": {},
   "outputs": [
    {
     "data": {
      "text/plain": [
       "([\"'\",\n",
       "  '@Apple',\n",
       "  'Would',\n",
       "  'much',\n",
       "  'rather',\n",
       "  'get',\n",
       "  'outta',\n",
       "  'this',\n",
       "  'having',\n",
       "  'a',\n",
       "  '(',\n",
       "  'see',\n",
       "  'pic',\n",
       "  ')',\n",
       "  'and',\n",
       "  'have',\n",
       "  'fun',\n",
       "  'with',\n",
       "  'this',\n",
       "  '\"',\n",
       "  'Have',\n",
       "  'your',\n",
       "  'friends',\n",
       "  'choose',\n",
       "  'music',\n",
       "  '\"',\n",
       "  'http://t.co/7IiHbr4J',\n",
       "  \"'\"],\n",
       " 'negative')"
      ]
     },
     "execution_count": 6,
     "metadata": {},
     "output_type": "execute_result"
    }
   ],
   "source": [
    "# Preprocess tweets\n",
    "preprocessed_tweets = preprocess(tweets)\n",
    "preprocessed_tweets[0]"
   ]
  },
  {
   "cell_type": "code",
   "execution_count": 7,
   "metadata": {
    "collapsed": true
   },
   "outputs": [],
   "source": [
    "# Split between training and test set\n",
    "# 90% training, 10% test\n",
    "threshold = int(0.9 * len(preprocessed_tweets))\n",
    "train_tweets = preprocessed_tweets[:threshold]\n",
    "test_tweets = preprocessed_tweets[threshold:]"
   ]
  },
  {
   "cell_type": "code",
   "execution_count": 8,
   "metadata": {},
   "outputs": [],
   "source": [
    "sentim_analyzer = SentimentAnalyzer()\n",
    "all_words_neg = sentim_analyzer.all_words([nltk.sentiment.util.mark_negation(doc) for doc in train_tweets])"
   ]
  },
  {
   "cell_type": "markdown",
   "metadata": {},
   "source": [
    "We use simple unigram word features, handling negation:"
   ]
  },
  {
   "cell_type": "code",
   "execution_count": 9,
   "metadata": {},
   "outputs": [
    {
     "data": {
      "text/plain": [
       "450"
      ]
     },
     "execution_count": 9,
     "metadata": {},
     "output_type": "execute_result"
    }
   ],
   "source": [
    "unigram_feats = sentim_analyzer.unigram_word_feats(all_words_neg, min_freq=4)\n",
    "len(unigram_feats)"
   ]
  },
  {
   "cell_type": "code",
   "execution_count": 15,
   "metadata": {},
   "outputs": [],
   "source": [
    "sentim_analyzer.add_feat_extractor(nltk.sentiment.util.extract_unigram_feats, unigrams=unigram_feats)"
   ]
  },
  {
   "cell_type": "markdown",
   "metadata": {},
   "source": [
    "We apply features to obtain a feature-value representation of our datasets:"
   ]
  },
  {
   "cell_type": "code",
   "execution_count": 16,
   "metadata": {},
   "outputs": [],
   "source": [
    "training_set = sentim_analyzer.apply_features(train_tweets)\n",
    "test_set = sentim_analyzer.apply_features(test_tweets)"
   ]
  },
  {
   "cell_type": "markdown",
   "metadata": {},
   "source": [
    "We can now train our classifier on the training set, and subsequently output the evaluation results:"
   ]
  },
  {
   "cell_type": "code",
   "execution_count": 17,
   "metadata": {},
   "outputs": [
    {
     "name": "stdout",
     "output_type": "stream",
     "text": [
      "Training classifier\n"
     ]
    }
   ],
   "source": [
    "trainer = NaiveBayesClassifier.train\n",
    "classifier = sentim_analyzer.train(trainer, training_set)\n",
    "# TODO check source (sadly the dataset cannot be downloaded)\n",
    "# nltk.sentiment.util.demo_tweets(trainer)"
   ]
  },
  {
   "cell_type": "code",
   "execution_count": 18,
   "metadata": {},
   "outputs": [
    {
     "name": "stdout",
     "output_type": "stream",
     "text": [
      "Evaluating NaiveBayesClassifier results...\n",
      "Accuracy: 0.7368421052631579\n",
      "F-measure [negative]: 0.7422680412371134\n",
      "F-measure [positive]: 0.7311827956989247\n",
      "Precision [negative]: 0.75\n",
      "Precision [positive]: 0.723404255319149\n",
      "Recall [negative]: 0.7346938775510204\n",
      "Recall [positive]: 0.7391304347826086\n"
     ]
    }
   ],
   "source": [
    "for key,value in sorted(sentim_analyzer.evaluate(test_set).items()):\n",
    "    print('{0}: {1}'.format(key, value))"
   ]
  },
  {
   "cell_type": "markdown",
   "metadata": {},
   "source": [
    "### TODO\n",
    "- Do this on a twitter training set"
   ]
  },
  {
   "cell_type": "code",
   "execution_count": 98,
   "metadata": {},
   "outputs": [],
   "source": [
    "# TODO this has to bring the tweets in about the same format as the built-in training set\n",
    "def clean_split(text):\n",
    "    return [word for word in text.split()\n",
    "                            if 'http' not in word\n",
    "                                and not word.startswith('@')\n",
    "                                and not word.startswith('#')\n",
    "                                and word != 'RT'\n",
    "                            ]"
   ]
  },
  {
   "cell_type": "code",
   "execution_count": 99,
   "metadata": {},
   "outputs": [
    {
     "name": "stdout",
     "output_type": "stream",
     "text": [
      "obj\n",
      "Evaluating NaiveBayesClassifier results...\n",
      "Accuracy: 0.49161607400982943\n",
      "F-measure [obj]: 0.5737486365289055\n",
      "F-measure [subj]: 0.3702775290957923\n",
      "Precision [obj]: 0.44863532979529946\n",
      "Precision [subj]: 0.6297198538367844\n",
      "Recall [obj]: 0.7956302521008404\n",
      "Recall [subj]: 0.26223687547552627\n"
     ]
    }
   ],
   "source": [
    "# Evaluate classifier performance on twitter test set\n",
    "import os\n",
    "print(sentim_analyzer.classify([\"I\",\"hate\",\"twitter\",\"so\",\"much\"])) # \"obj\" --> objective\n",
    "\n",
    "with open('./../../data/external/umich_sentiment_labeled.txt') as twitter_test_set_file:\n",
    "    twitter_test_set = csv.reader(twitter_test_set_file, delimiter='\\t')\n",
    "    # Bring the data in the format expected by the evaluate-function\n",
    "    evaluation_docs = [(clean_split(doc[1]), 'subj' if doc[0] == '1' else 'obj') for doc in twitter_test_set]\n",
    "    #print(evaluation_docs[:10])\n",
    "    evaluation_set = sentim_analyzer.apply_features(evaluation_docs)\n",
    "    for key,value in sorted(sentim_analyzer.evaluate(evaluation_set).items()):\n",
    "        print('{0}: {1}'.format(key, value))\n",
    "\n",
    "# The Problem: the classifier is trained on subjectivity and objectivity, not positive/negative!"
   ]
  },
  {
   "cell_type": "code",
   "execution_count": 100,
   "metadata": {
    "collapsed": true
   },
   "outputs": [],
   "source": [
    "# SAVE AND LOAD\n",
    "\n",
    "# optional to save your classifier so you can load it elsewhere without having to rebuild training set every time\n",
    "save_classifier = open(\"./../../models/naive_bayes/nltk_sentiment_analyzer.pickle\",\"wb\")\n",
    "pickle.dump(sentim_analyzer, save_classifier)\n",
    "save_classifier.close()\n",
    "\n",
    "# optional load from classifier that was saved previously\n",
    "# classifier_f = open(\"naivebayes.pickle\", \"rb\")\n",
    "# classifier = pickle.load(classifier_f)\n",
    "# classifier_f.close()"
   ]
  },
  {
   "cell_type": "code",
   "execution_count": null,
   "metadata": {
    "collapsed": true
   },
   "outputs": [],
   "source": []
  }
 ],
 "metadata": {
  "kernelspec": {
   "display_name": "Python 3",
   "language": "python",
   "name": "python3"
  },
  "language_info": {
   "codemirror_mode": {
    "name": "ipython",
    "version": 3
   },
   "file_extension": ".py",
   "mimetype": "text/x-python",
   "name": "python",
   "nbconvert_exporter": "python",
   "pygments_lexer": "ipython3",
   "version": "3.6.2"
  }
 },
 "nbformat": 4,
 "nbformat_minor": 1
}
