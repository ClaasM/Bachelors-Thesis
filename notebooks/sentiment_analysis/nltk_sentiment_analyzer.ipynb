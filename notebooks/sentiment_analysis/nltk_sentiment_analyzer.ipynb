{
 "cells": [
  {
   "cell_type": "markdown",
   "metadata": {},
   "source": [
    "# Example from www.nltk.org/howto/sentiment.html\n",
    "# Testing different SA methods\n",
    "## nltk's sentiment analyzer"
   ]
  },
  {
   "cell_type": "code",
   "execution_count": 101,
   "metadata": {},
   "outputs": [],
   "source": [
    "import nltk\n",
    "import csv\n",
    "import pickle"
   ]
  },
  {
   "cell_type": "code",
   "execution_count": 128,
   "metadata": {
    "collapsed": true
   },
   "outputs": [],
   "source": [
    "# This is specific to the dataset\n",
    "negative_label = 'negative'\n",
    "neutral_label = 'neutral'\n",
    "positive_label = 'positive'\n",
    "irrelevant_label = 'irrelevant'\n",
    "with open('./../../data/external/sanders.csv') as csv_file:\n",
    "    iterator = csv.reader(csv_file, delimiter=',')\n",
    "    # Only keep entries with positive or negative sentiment\n",
    "    tweets = [(tweet, sentiment) for (topic, sentiment, id, tweet) in iterator if sentiment == negative_label or sentiment == positive_label]"
   ]
  },
  {
   "cell_type": "code",
   "execution_count": 129,
   "metadata": {},
   "outputs": [
    {
     "data": {
      "text/plain": [
       "('\"@Twitter CEO points to @Apple as \\'corporate mentor\\' as @iOS signups triple http://t.co/GCY8iphN\"',\n",
       " 'positive')"
      ]
     },
     "execution_count": 129,
     "metadata": {},
     "output_type": "execute_result"
    }
   ],
   "source": [
    "tweets[0]"
   ]
  },
  {
   "cell_type": "code",
   "execution_count": 130,
   "metadata": {},
   "outputs": [
    {
     "data": {
      "text/plain": [
       "945"
      ]
     },
     "execution_count": 130,
     "metadata": {},
     "output_type": "execute_result"
    }
   ],
   "source": [
    "len(tweets)"
   ]
  },
  {
   "cell_type": "code",
   "execution_count": 131,
   "metadata": {},
   "outputs": [],
   "source": [
    "# This is also specific to the dataset\n",
    "def preprocess(tweets):\n",
    "    tokenizer = nltk.tokenize.TweetTokenizer()\n",
    "    preprocessed_tweets = []\n",
    "    for (text, sentiment) in tweets:\n",
    "        words_filtered = tokenizer.tokenize(text)\n",
    "        preprocessed_tweets.append((words_filtered, sentiment))\n",
    "    return preprocessed_tweets"
   ]
  },
  {
   "cell_type": "code",
   "execution_count": 132,
   "metadata": {},
   "outputs": [
    {
     "data": {
      "text/plain": [
       "(['\"',\n",
       "  '@Twitter',\n",
       "  'CEO',\n",
       "  'points',\n",
       "  'to',\n",
       "  '@Apple',\n",
       "  'as',\n",
       "  \"'\",\n",
       "  'corporate',\n",
       "  'mentor',\n",
       "  \"'\",\n",
       "  'as',\n",
       "  '@iOS',\n",
       "  'signups',\n",
       "  'triple',\n",
       "  'http://t.co/GCY8iphN',\n",
       "  '\"'],\n",
       " 'positive')"
      ]
     },
     "execution_count": 132,
     "metadata": {},
     "output_type": "execute_result"
    }
   ],
   "source": [
    "# Preprocess tweets\n",
    "preprocessed_tweets = preprocess(tweets)\n",
    "preprocessed_tweets[0]"
   ]
  },
  {
   "cell_type": "code",
   "execution_count": 134,
   "metadata": {
    "collapsed": true
   },
   "outputs": [],
   "source": [
    "# Split between training and test set\n",
    "# There are 4345 tweets in the dataset\n",
    "train_tweets = preprocessed_tweets[:900]\n",
    "test_tweets = preprocessed_tweets[900:]"
   ]
  },
  {
   "cell_type": "code",
   "execution_count": 135,
   "metadata": {},
   "outputs": [],
   "source": [
    "sentim_analyzer = SentimentAnalyzer()\n",
    "all_words_neg = sentim_analyzer.all_words([nltk.sentiment.util.mark_negation(doc) for doc in train_tweets])"
   ]
  },
  {
   "cell_type": "markdown",
   "metadata": {},
   "source": [
    "We use simple unigram word features, handling negation:"
   ]
  },
  {
   "cell_type": "code",
   "execution_count": 136,
   "metadata": {},
   "outputs": [
    {
     "data": {
      "text/plain": [
       "496"
      ]
     },
     "execution_count": 136,
     "metadata": {},
     "output_type": "execute_result"
    }
   ],
   "source": [
    "unigram_feats = sentim_analyzer.unigram_word_feats(all_words_neg, min_freq=4)\n",
    "len(unigram_feats)"
   ]
  },
  {
   "cell_type": "code",
   "execution_count": 137,
   "metadata": {
    "collapsed": true
   },
   "outputs": [],
   "source": [
    "sentim_analyzer.add_feat_extractor(extract_unigram_feats, unigrams=unigram_feats)"
   ]
  },
  {
   "cell_type": "markdown",
   "metadata": {},
   "source": [
    "We apply features to obtain a feature-value representation of our datasets:"
   ]
  },
  {
   "cell_type": "code",
   "execution_count": 138,
   "metadata": {},
   "outputs": [],
   "source": [
    "training_set = sentim_analyzer.apply_features(train_tweets)\n",
    "test_set = sentim_analyzer.apply_features(test_tweets)"
   ]
  },
  {
   "cell_type": "markdown",
   "metadata": {},
   "source": [
    "We can now train our classifier on the training set, and subsequently output the evaluation results:"
   ]
  },
  {
   "cell_type": "code",
   "execution_count": 139,
   "metadata": {},
   "outputs": [
    {
     "name": "stdout",
     "output_type": "stream",
     "text": [
      "Training classifier\n"
     ]
    }
   ],
   "source": [
    "trainer = NaiveBayesClassifier.train\n",
    "classifier = sentim_analyzer.train(trainer, training_set)\n",
    "# TODO check source (sadly the dataset cannot be downloaded)\n",
    "# nltk.sentiment.util.demo_tweets(trainer)"
   ]
  },
  {
   "cell_type": "code",
   "execution_count": 140,
   "metadata": {},
   "outputs": [
    {
     "name": "stdout",
     "output_type": "stream",
     "text": [
      "Evaluating NaiveBayesClassifier results...\n",
      "Accuracy: 0.24444444444444444\n",
      "F-measure [negative]: 0.39285714285714285\n",
      "Precision [negative]: 1.0\n",
      "Recall [negative]: 0.24444444444444444\n"
     ]
    }
   ],
   "source": [
    "for key,value in sorted(sentim_analyzer.evaluate(test_set).items()):\n",
    "    print('{0}: {1}'.format(key, value))"
   ]
  },
  {
   "cell_type": "markdown",
   "metadata": {},
   "source": [
    "### TODO\n",
    "- Do this on a twitter training set"
   ]
  },
  {
   "cell_type": "code",
   "execution_count": 98,
   "metadata": {},
   "outputs": [],
   "source": [
    "# TODO this has to bring the tweets in about the same format as the built-in training set\n",
    "def clean_split(text):\n",
    "    return [word for word in text.split()\n",
    "                            if 'http' not in word\n",
    "                                and not word.startswith('@')\n",
    "                                and not word.startswith('#')\n",
    "                                and word != 'RT'\n",
    "                            ]"
   ]
  },
  {
   "cell_type": "code",
   "execution_count": 99,
   "metadata": {},
   "outputs": [
    {
     "name": "stdout",
     "output_type": "stream",
     "text": [
      "obj\n",
      "Evaluating NaiveBayesClassifier results...\n",
      "Accuracy: 0.49161607400982943\n",
      "F-measure [obj]: 0.5737486365289055\n",
      "F-measure [subj]: 0.3702775290957923\n",
      "Precision [obj]: 0.44863532979529946\n",
      "Precision [subj]: 0.6297198538367844\n",
      "Recall [obj]: 0.7956302521008404\n",
      "Recall [subj]: 0.26223687547552627\n"
     ]
    }
   ],
   "source": [
    "# Evaluate classifier performance on twitter test set\n",
    "import os\n",
    "print(sentim_analyzer.classify([\"I\",\"hate\",\"twitter\",\"so\",\"much\"])) # \"obj\" --> objective\n",
    "\n",
    "with open('./../../data/external/umich_sentiment_labeled.txt') as twitter_test_set_file:\n",
    "    twitter_test_set = csv.reader(twitter_test_set_file, delimiter='\\t')\n",
    "    # Bring the data in the format expected by the evaluate-function\n",
    "    evaluation_docs = [(clean_split(doc[1]), 'subj' if doc[0] == '1' else 'obj') for doc in twitter_test_set]\n",
    "    #print(evaluation_docs[:10])\n",
    "    evaluation_set = sentim_analyzer.apply_features(evaluation_docs)\n",
    "    for key,value in sorted(sentim_analyzer.evaluate(evaluation_set).items()):\n",
    "        print('{0}: {1}'.format(key, value))\n",
    "\n",
    "# The Problem: the classifier is trained on subjectivity and objectivity, not positive/negative!"
   ]
  },
  {
   "cell_type": "code",
   "execution_count": 100,
   "metadata": {
    "collapsed": true
   },
   "outputs": [],
   "source": [
    "# SAVE AND LOAD\n",
    "\n",
    "# optional to save your classifier so you can load it elsewhere without having to rebuild training set every time\n",
    "save_classifier = open(\"tweetposneg.pickle\",\"wb\")\n",
    "pickle.dump(classifier, save_classifier)\n",
    "save_classifier.close()\n",
    "\n",
    "# optional load from classifier that was saved previously\n",
    "# classifier_f = open(\"naivebayes.pickle\", \"rb\")\n",
    "# classifier = pickle.load(classifier_f)\n",
    "# classifier_f.close()"
   ]
  },
  {
   "cell_type": "code",
   "execution_count": null,
   "metadata": {
    "collapsed": true
   },
   "outputs": [],
   "source": []
  }
 ],
 "metadata": {
  "kernelspec": {
   "display_name": "Python 3",
   "language": "python",
   "name": "python3"
  },
  "language_info": {
   "codemirror_mode": {
    "name": "ipython",
    "version": 3
   },
   "file_extension": ".py",
   "mimetype": "text/x-python",
   "name": "python",
   "nbconvert_exporter": "python",
   "pygments_lexer": "ipython3",
   "version": "3.6.2"
  }
 },
 "nbformat": 4,
 "nbformat_minor": 1
}
