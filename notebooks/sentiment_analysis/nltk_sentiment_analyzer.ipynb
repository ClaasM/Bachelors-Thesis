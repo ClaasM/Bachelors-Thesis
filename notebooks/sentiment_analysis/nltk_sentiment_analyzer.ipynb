{
 "cells": [
  {
   "cell_type": "markdown",
   "metadata": {},
   "source": [
    "# Testing different SA methods 2/5\n",
    "## nltk's sentiment analyzer\n",
    "This code was partly taken from [here](www.nltk.org/howto/sentiment.html) TODO also attribute in thesis"
   ]
  },
  {
   "cell_type": "code",
   "execution_count": 7,
   "metadata": {},
   "outputs": [],
   "source": [
    "# Imports\n",
    "import nltk\n",
    "import csv\n",
    "import pickle\n",
    "import random\n",
    "import time\n",
    "\n",
    "from nltk.classify import NaiveBayesClassifier\n",
    "from nltk.sentiment import SentimentAnalyzer\n",
    "from gensim import corpora\n",
    "\n",
    "# Ugly hackery, but necessary: stackoverflow.com/questions/4383571/importing-files-from-different-folder\n",
    "import sys\n",
    "sys.path.append('../../../')\n",
    "    \n",
    "from src.streaming import spark_functions\n",
    "\n",
    "preprocess = spark_functions.preprocessor()\n",
    "tokenize = spark_functions.tokenizer(remove_stopwords=False)\n",
    "\n",
    "with open('./../../../data/interim/sanders_hydrated.csv') as csv_file:\n",
    "    iterator = csv.reader(csv_file, delimiter=',')\n",
    "    # Load the parts we need and preprocess as well as tokenize the text\n",
    "    tweets = [(tokenize(preprocess(text)), sentiment) for (topic, sentiment, id, text) in iterator]\n",
    "    # The tweets are ordered, so shuffle for the training/test split\n",
    "    random.shuffle(tweets)\n",
    "    \n",
    "# Split between training and test set\n",
    "# 90% training, 10% test\n",
    "threshold = int(0.9 * len(tweets))\n",
    "train_tweets = tweets[:threshold]\n",
    "test_tweets = tweets[threshold:]"
   ]
  },
  {
   "cell_type": "code",
   "execution_count": 8,
   "metadata": {},
   "outputs": [],
   "source": [
    "sentim_analyzer = SentimentAnalyzer()\n",
    "# Words with negation\n",
    "all_words_neg = sentim_analyzer.all_words([nltk.sentiment.util.mark_negation(doc) for doc in tweets])\n",
    "# WOrds without negation\n",
    "all_words = sentim_analyzer.all_words(tweets)"
   ]
  },
  {
   "cell_type": "markdown",
   "metadata": {},
   "source": [
    "We use simple unigram word features, handling negation if we want:"
   ]
  },
  {
   "cell_type": "code",
   "execution_count": 9,
   "metadata": {},
   "outputs": [
    {
     "data": {
      "text/plain": [
       "2709"
      ]
     },
     "execution_count": 9,
     "metadata": {},
     "output_type": "execute_result"
    }
   ],
   "source": [
    "unigram_feats = sentim_analyzer.unigram_word_feats(all_words_neg, min_freq=1) # Same minimum frequency used the gensim-dictionary\n",
    "len(unigram_feats)"
   ]
  },
  {
   "cell_type": "code",
   "execution_count": 10,
   "metadata": {
    "collapsed": true
   },
   "outputs": [],
   "source": [
    "sentim_analyzer.add_feat_extractor(nltk.sentiment.util.extract_unigram_feats, unigrams=unigram_feats)"
   ]
  },
  {
   "cell_type": "markdown",
   "metadata": {},
   "source": [
    "We apply features to obtain a feature-value representation of our datasets:"
   ]
  },
  {
   "cell_type": "code",
   "execution_count": 11,
   "metadata": {},
   "outputs": [],
   "source": [
    "training_set = sentim_analyzer.apply_features(train_tweets)\n",
    "test_set = sentim_analyzer.apply_features(test_tweets)"
   ]
  },
  {
   "cell_type": "markdown",
   "metadata": {},
   "source": [
    "We can now train our classifier on the training set, and subsequently output the evaluation results:"
   ]
  },
  {
   "cell_type": "code",
   "execution_count": 12,
   "metadata": {},
   "outputs": [
    {
     "name": "stdout",
     "output_type": "stream",
     "text": [
      "Training classifier\n"
     ]
    }
   ],
   "source": [
    "trainer = NaiveBayesClassifier.train\n",
    "classifier = sentim_analyzer.train(trainer, training_set)"
   ]
  },
  {
   "cell_type": "code",
   "execution_count": 13,
   "metadata": {},
   "outputs": [
    {
     "name": "stdout",
     "output_type": "stream",
     "text": [
      "Evaluating NaiveBayesClassifier results...\n",
      "Accuracy: 0.7525773195876289\n",
      "F-measure [negative]: 0.6306306306306306\n",
      "F-measure [neutral]: 0.8522167487684729\n",
      "F-measure [positive]: 0.3384615384615385\n",
      "Precision [negative]: 0.5384615384615384\n",
      "Precision [neutral]: 0.8693467336683417\n",
      "Precision [positive]: 0.4074074074074074\n",
      "Recall [negative]: 0.7608695652173914\n",
      "Recall [neutral]: 0.8357487922705314\n",
      "Recall [positive]: 0.2894736842105263\n"
     ]
    }
   ],
   "source": [
    "for key,value in sorted(sentim_analyzer.evaluate(test_set).items()):\n",
    "    print('{0}: {1}'.format(key, value))"
   ]
  },
  {
   "cell_type": "code",
   "execution_count": 41,
   "metadata": {
    "collapsed": true
   },
   "outputs": [],
   "source": [
    "# If its a good classifier, we can save it by running this cell\n",
    "save_classifier = open(\"./../../models/naive_bayes/nltk_sentiment_analyzer_all_labels.pickle\",\"wb\")\n",
    "pickle.dump(sentim_analyzer, save_classifier)\n",
    "save_classifier.close()"
   ]
  }
 ],
 "metadata": {
  "kernelspec": {
   "display_name": "Python 3",
   "language": "python",
   "name": "python3"
  },
  "language_info": {
   "codemirror_mode": {
    "name": "ipython",
    "version": 3
   },
   "file_extension": ".py",
   "mimetype": "text/x-python",
   "name": "python",
   "nbconvert_exporter": "python",
   "pygments_lexer": "ipython3",
   "version": "3.6.2"
  }
 },
 "nbformat": 4,
 "nbformat_minor": 1
}
