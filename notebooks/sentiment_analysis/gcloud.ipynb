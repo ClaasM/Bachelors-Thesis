{
 "cells": [
  {
   "cell_type": "markdown",
   "metadata": {},
   "source": [
    "# Testing different SA methods 5/5\n",
    "## gcloud\n",
    "*Important: this just analyzes the results which we save beforehand because the API is rate limit*"
   ]
  },
  {
   "cell_type": "code",
   "execution_count": 13,
   "metadata": {
    "collapsed": true
   },
   "outputs": [],
   "source": [
    "# Imports\n",
    "import csv\n",
    "import random"
   ]
  },
  {
   "cell_type": "code",
   "execution_count": 44,
   "metadata": {},
   "outputs": [
    {
     "name": "stdout",
     "output_type": "stream",
     "text": [
      "4.099999904632568\n",
      "945 tweets read, 945 valid\n"
     ]
    }
   ],
   "source": [
    "# Check how many were labeled correctly\n",
    "with open('../../../data/interim/sanders_gcloud.csv', 'r', newline='') as in_file:\n",
    "    csv_reader = csv.reader(in_file, delimiter=',')\n",
    "    labeled_correctly = 0\n",
    "    # Load all the tweets into memory\n",
    "    # Do filtering here\n",
    "    raw_tweets = [(text, sentiment, id, score, magnitude) for (text, sentiment, id, score, magnitude) in csv_reader \n",
    "              if sentiment == 'positive' \n",
    "              or sentiment == 'negative']\n",
    "    # Some tweets couldn't be labeled by the GCloud API, so we filter them out here\n",
    "    tweets = [(text, sentiment, id, score, magnitude) for (text, sentiment, id, score, magnitude) in raw_tweets \n",
    "              if score != \"N/A\" \n",
    "              and magnitude != \"N/A\" ]\n",
    "        \n",
    "    random.shuffle(tweets)\n",
    "\n",
    "print(max([magnitude for (text, sentiment, id, score, magnitude) in tweets]))\n",
    "print(\"%d tweets read, %d valid\" % (len(raw_tweets),len(tweets)))"
   ]
  },
  {
   "cell_type": "code",
   "execution_count": 45,
   "metadata": {},
   "outputs": [
    {
     "data": {
      "image/png": "[encoded data removed]",
      "text/plain": [
       "<matplotlib.figure.Figure at 0x1091b3d68>"
      ]
     },
     "metadata": {},
     "output_type": "display_data"
    }
   ],
   "source": [
    "import matplotlib.pyplot as plt\n",
    "\n",
    "results = {\n",
    "    \"positive\":{\"color\":\"green\",\"x\":[],\"y\":[]},\n",
    "    \"neutral\":{\"color\":\"orange\",\"x\":[],\"y\":[]},\n",
    "    \"negative\":{\"color\":\"red\",\"x\":[],\"y\":[]}\n",
    "}\n",
    "                        \n",
    "# Create plot\n",
    "fig = plt.figure()\n",
    "ax = fig.add_subplot(1, 1, 1)\n",
    " \n",
    "for (text, sentiment, id, score, magnitude) in tweets[:200]:\n",
    "    results[sentiment][\"x\"].append(score)\n",
    "    results[sentiment][\"y\"].append(magnitude)\n",
    "    \n",
    "for key in results:\n",
    "    ax.scatter(results[key][\"x\"], results[key][\"y\"], alpha=0.8, c=results[key][\"color\"], edgecolors='none', label=key)\n",
    " \n",
    "plt.xlabel('score')\n",
    "plt.ylabel('magnitude')\n",
    "\n",
    "plt.legend(loc=2)\n",
    "plt.savefig('gcloud.pdf', format='pdf')\n",
    "plt.show()"
   ]
  },
  {
   "cell_type": "code",
   "execution_count": 48,
   "metadata": {},
   "outputs": [
    {
     "name": "stdout",
     "output_type": "stream",
     "text": [
      "Labeled correctly: 667/945 = 70 percent\n"
     ]
    },
    {
     "data": {
      "text/plain": [
       "70.58201058201058"
      ]
     },
     "execution_count": 48,
     "metadata": {},
     "output_type": "execute_result"
    }
   ],
   "source": [
    "labeled_correctly = 0\n",
    "threshold = .9\n",
    "for (text,sentiment,id, score, magnitude) in tweets:\n",
    "    if (float(score) < 0 and sentiment == 'negative') or (float(score) >= 0 and sentiment == 'positive'):\n",
    "        labeled_correctly += 1\n",
    "\n",
    "print(\"Labeled correctly: %d/%d = %.2d percent\" % (labeled_correctly, len(tweets), labeled_correctly/len(tweets)*100))\n",
    "labeled_correctly/len(tweets)*100"
   ]
  },
  {
   "cell_type": "code",
   "execution_count": 47,
   "metadata": {},
   "outputs": [
    {
     "data": {
      "text/plain": [
       "0.0"
      ]
     },
     "execution_count": 47,
     "metadata": {},
     "output_type": "execute_result"
    }
   ],
   "source": [
    "len([tweet for tweet in tweets if tweet[1] == \"neutral\"])/len(tweets)*100"
   ]
  },
  {
   "cell_type": "code",
   "execution_count": null,
   "metadata": {
    "collapsed": true
   },
   "outputs": [],
   "source": []
  }
 ],
 "metadata": {
  "kernelspec": {
   "display_name": "Python 3",
   "language": "python",
   "name": "python3"
  },
  "language_info": {
   "codemirror_mode": {
    "name": "ipython",
    "version": 3
   },
   "file_extension": ".py",
   "mimetype": "text/x-python",
   "name": "python",
   "nbconvert_exporter": "python",
   "pygments_lexer": "ipython3",
   "version": "3.6.2"
  }
 },
 "nbformat": 4,
 "nbformat_minor": 2
}
