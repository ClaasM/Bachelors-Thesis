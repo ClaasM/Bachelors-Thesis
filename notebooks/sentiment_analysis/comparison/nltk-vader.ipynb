{
 "cells": [
  {
   "cell_type": "markdown",
   "metadata": {},
   "source": [
    "# Testing different SA methods 3/5\n",
    "## nltk's vader"
   ]
  },
  {
   "cell_type": "code",
   "execution_count": 4,
   "metadata": {
    "collapsed": true
   },
   "outputs": [],
   "source": [
    "from nltk.sentiment.vader import SentimentIntensityAnalyzer\n",
    "import csv"
   ]
  },
  {
   "cell_type": "code",
   "execution_count": 16,
   "metadata": {},
   "outputs": [],
   "source": [
    "# This is specific to the dataset\n",
    "negative_label = 'negative'\n",
    "neutral_label = 'neutral'\n",
    "positive_label = 'positive'\n",
    "irrelevant_label = 'irrelevant'\n",
    "with open('./../../../data/external/sanders.csv') as csv_file:\n",
    "    iterator = csv.reader(csv_file, delimiter=',')\n",
    "    # Only keep entries with positive or negative sentiment\n",
    "    tweets = [(tweet, sentiment) for (topic, sentiment, id, tweet) in iterator \n",
    "              if sentiment == negative_label \n",
    "              or sentiment == positive_label\n",
    "              or sentiment == neutral_label] # Vader cannot handle irrelevancy\n"
   ]
  },
  {
   "cell_type": "code",
   "execution_count": 21,
   "metadata": {},
   "outputs": [
    {
     "name": "stdout",
     "output_type": "stream",
     "text": [
      "1973/2910 = 67 percent\n"
     ]
    }
   ],
   "source": [
    "sid = SentimentIntensityAnalyzer()\n",
    "labeled_correctly = 0\n",
    "for (tweet,sentiment) in tweets:\n",
    "    ss = sid.polarity_scores(tweet)\n",
    "    if ss['neg'] > ss['neu'] and ss['neg'] > ss['pos']:\n",
    "        # Negative is the biggest value\n",
    "        label = negative_label\n",
    "    elif ss['pos'] > ss['neu'] and ss['pos'] > ss['neg']:\n",
    "        # Positive is the biggest value\n",
    "        label = positive_label\n",
    "    else:\n",
    "        label = neutral_label\n",
    "        \n",
    "    if label == sentiment:\n",
    "        labeled_correctly += 1\n",
    "    # TODO which approach is more sensible?\n",
    "    # TODO find optimal neutral-threshold on compound score. (It may be zero, put it is probably not)\n",
    "    #if (ss['compound'] <= 0 and sentiment == negative_label) or (ss['compound'] > 0 and sentiment == positive_label):\n",
    "    #    labeled_correctly += 1\n",
    "    #for k in sorted(ss):\n",
    "    #    print('{0}: {1}, '.format(k, ss[k]), end='')\n",
    "print(\"%d/%d = %.2d percent\" % (labeled_correctly, len(tweets), labeled_correctly/len(tweets)*100))"
   ]
  },
  {
   "cell_type": "code",
   "execution_count": 18,
   "metadata": {},
   "outputs": [
    {
     "name": "stdout",
     "output_type": "stream",
     "text": [
      "Loaded 1 tweets\r",
      "Loaded 2 tweets\r",
      "Loaded 3 tweets\r",
      "Loaded 4 tweets\r",
      "Loaded 5 tweets\r",
      "Loaded 6 tweets\r",
      "Loaded 7 tweets\r",
      "Loaded 8 tweets\r",
      "Loaded 9 tweets\r",
      "Loaded 10 tweets\r",
      "Loaded 11 tweets\r",
      "Loaded 12 tweets\r",
      "Loaded 13 tweets\r",
      "Loaded 14 tweets\r",
      "Loaded 15 tweets\r",
      "Loaded 16 tweets\r",
      "Loaded 17 tweets\r",
      "Loaded 18 tweets\r",
      "Loaded 19 tweets\r",
      "Loaded 20 tweets\r",
      "Loaded 21 tweets\r",
      "Loaded 22 tweets\r",
      "Loaded 23 tweets\r",
      "Loaded 24 tweets\r",
      "Loaded 25 tweets\r",
      "Loaded 26 tweets\r",
      "Loaded 27 tweets\r",
      "Loaded 28 tweets\r",
      "Loaded 29 tweets\r",
      "Loaded 30 tweets\r",
      "Loaded 31 tweets\r",
      "Loaded 32 tweets\r",
      "Loaded 33 tweets\r",
      "Loaded 34 tweets\r",
      "Loaded 35 tweets\r",
      "Loaded 36 tweets\r",
      "Loaded 37 tweets\r",
      "Loaded 38 tweets\r",
      "Loaded 39 tweets\r",
      "Loaded 40 tweets\r",
      "Loaded 41 tweets\r",
      "Loaded 42 tweets\r",
      "Loaded 43 tweets\r",
      "Loaded 44 tweets\r",
      "Loaded 45 tweets\r",
      "Loaded 46 tweets\r",
      "Loaded 47 tweets\r",
      "Loaded 48 tweets\r",
      "Loaded 49 tweets\r",
      "Loaded 50 tweets\r",
      "Loaded 50 tweets\n",
      "Loaded 1 tweets\r",
      "Loaded 2 tweets\r",
      "Loaded 3 tweets\r",
      "Loaded 4 tweets\r",
      "Loaded 5 tweets\r",
      "Loaded 6 tweets\r",
      "Loaded 7 tweets\r",
      "Loaded 8 tweets\r",
      "Loaded 9 tweets\r",
      "Loaded 10 tweets\r",
      "Loaded 11 tweets\r",
      "Loaded 12 tweets\r",
      "Loaded 13 tweets\r",
      "Loaded 14 tweets\r",
      "Loaded 15 tweets\r",
      "Loaded 16 tweets\r",
      "Loaded 17 tweets\r",
      "Loaded 18 tweets\r",
      "Loaded 19 tweets\r",
      "Loaded 20 tweets\r",
      "Loaded 21 tweets\r",
      "Loaded 22 tweets\r",
      "Loaded 23 tweets\r",
      "Loaded 24 tweets\r",
      "Loaded 25 tweets\r",
      "Loaded 26 tweets\r",
      "Loaded 27 tweets\r",
      "Loaded 28 tweets\r",
      "Loaded 29 tweets\r",
      "Loaded 30 tweets\r",
      "Loaded 31 tweets\r",
      "Loaded 32 tweets\r",
      "Loaded 33 tweets\r",
      "Loaded 34 tweets\r",
      "Loaded 35 tweets\r",
      "Loaded 36 tweets\r",
      "Loaded 37 tweets\r",
      "Loaded 38 tweets\r",
      "Loaded 39 tweets\r",
      "Loaded 40 tweets\r",
      "Loaded 41 tweets\r",
      "Loaded 42 tweets\r",
      "Loaded 43 tweets\r",
      "Loaded 44 tweets\r",
      "Loaded 45 tweets\r",
      "Loaded 46 tweets\r",
      "Loaded 47 tweets\r",
      "Loaded 48 tweets\r",
      "Loaded 49 tweets\r",
      "Loaded 50 tweets\r",
      "Loaded 50 tweets\n",
      "Accuracy: 0.85\n",
      "F-measure [neg]: 0.8235294117647058\n",
      "F-measure [pos]: 0.8695652173913044\n",
      "Precision [neg]: 1.0\n",
      "Precision [pos]: 0.7692307692307693\n",
      "Recall [neg]: 0.7\n",
      "Recall [pos]: 1.0\n"
     ]
    }
   ],
   "source": [
    "# Funny how vader performs way better on the nltk dataset\n",
    "import nltk.sentiment.util\n",
    "nltk.sentiment.util.demo_vader_tweets(n_instances=100, output=None)"
   ]
  },
  {
   "cell_type": "code",
   "execution_count": null,
   "metadata": {
    "collapsed": true
   },
   "outputs": [],
   "source": []
  }
 ],
 "metadata": {
  "kernelspec": {
   "display_name": "Python 3",
   "language": "python",
   "name": "python3"
  },
  "language_info": {
   "codemirror_mode": {
    "name": "ipython",
    "version": 3
   },
   "file_extension": ".py",
   "mimetype": "text/x-python",
   "name": "python",
   "nbconvert_exporter": "python",
   "pygments_lexer": "ipython3",
   "version": "3.6.2"
  }
 },
 "nbformat": 4,
 "nbformat_minor": 2
}
