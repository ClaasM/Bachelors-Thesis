{
 "cells": [
  {
   "cell_type": "markdown",
   "metadata": {},
   "source": [
    "# Testing different SA methods 4/5\n",
    "## Textblob\n"
   ]
  },
  {
   "cell_type": "code",
   "execution_count": 2,
   "metadata": {},
   "outputs": [],
   "source": [
    "import csv\n",
    "import re\n",
    "\n",
    "from textblob import TextBlob\n",
    "\n",
    "# Ugly hackery, but necessary: stackoverflow.com/questions/4383571/importing-files-from-different-folder\n",
    "import sys\n",
    "sys.path.append('../../../')\n",
    "    \n",
    "from src.streaming import spark_functions"
   ]
  },
  {
   "cell_type": "code",
   "execution_count": 11,
   "metadata": {
    "collapsed": true
   },
   "outputs": [],
   "source": [
    "preprocess = spark_functions.preprocessor()\n",
    "tokenize = spark_functions.tokenizer()\n",
    "\n",
    "with open('./../../../data/interim/sanders_hydrated.csv') as csv_file:\n",
    "    iterator = csv.reader(csv_file, delimiter=',')\n",
    "    # Load the parts we need and preprocess as well as tokenize the text\n",
    "    tweets = [(preprocess(text), sentiment) for (topic, sentiment, id, text) in iterator if sentiment=='positive' or sentiment=='negative']"
   ]
  },
  {
   "cell_type": "code",
   "execution_count": 19,
   "metadata": {},
   "outputs": [
    {
     "name": "stdout",
     "output_type": "stream",
     "text": [
      "Labeled correctly: 456/946 = 48 percent\n",
      "Labeled not wrong: 738/946 = 78 percent\n"
     ]
    }
   ],
   "source": [
    "# TODO Do a \"if it gives a polarity at all, it is right in X% of cases\"\n",
    "labeled_correctly = 0\n",
    "labeled_neutral = 0\n",
    "for (tweet,sentiment) in tweets:\n",
    "    analysis = TextBlob(preprocess(tweet)).sentiment\n",
    "    if (analysis.polarity < 0 and sentiment == 'negative') or (analysis.polarity > 0 and sentiment == 'positive'):\n",
    "        labeled_correctly += 1\n",
    "    elif (analysis.polarity == 0):\n",
    "        labeled_neutral += 1\n",
    "\n",
    "labeled_not_wrong = labeled_neutral + labeled_correctly\n",
    "print(\"Labeled correctly: %d/%d = %.2d percent\" % (labeled_correctly, len(tweets), labeled_correctly/len(tweets)*100))\n",
    "print(\"Labeled not wrong: %d/%d = %.2d percent\" % (labeled_not_wrong, len(tweets), labeled_not_wrong/len(tweets)*100))"
   ]
  },
  {
   "cell_type": "code",
   "execution_count": null,
   "metadata": {
    "collapsed": true
   },
   "outputs": [],
   "source": []
  }
 ],
 "metadata": {
  "kernelspec": {
   "display_name": "Python 3",
   "language": "python",
   "name": "python3"
  },
  "language_info": {
   "codemirror_mode": {
    "name": "ipython",
    "version": 3
   },
   "file_extension": ".py",
   "mimetype": "text/x-python",
   "name": "python",
   "nbconvert_exporter": "python",
   "pygments_lexer": "ipython3",
   "version": "3.6.2"
  }
 },
 "nbformat": 4,
 "nbformat_minor": 2
}
