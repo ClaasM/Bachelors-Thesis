{
 "cells": [
  {
   "cell_type": "code",
   "execution_count": 46,
   "metadata": {},
   "outputs": [],
   "source": [
    "from google.cloud import language\n",
    "from google.cloud.language import enums\n",
    "from google.cloud.language import types\n",
    "\n",
    "import os\n",
    "import csv\n",
    "import random\n",
    "\n",
    "# Set the path to the credentials downloaded from the google api console\n",
    "os.environ['GOOGLE_APPLICATION_CREDENTIALS'] = '../../../google_access.json'"
   ]
  },
  {
   "cell_type": "code",
   "execution_count": 47,
   "metadata": {},
   "outputs": [
    {
     "data": {
      "text/plain": [
       "4345"
      ]
     },
     "execution_count": 47,
     "metadata": {},
     "output_type": "execute_result"
    }
   ],
   "source": [
    "# Read all the tweets we want\n",
    "# We want all the tweets in this case, since we save them and perform the analysis later.\n",
    "negative_label = 'negative'\n",
    "neutral_label = 'neutral'\n",
    "positive_label = 'positive'\n",
    "irrelevant_label = 'irrelevant'\n",
    "with open('./../../../data/external/sanders.csv') as csv_file:\n",
    "    iterator = csv.reader(csv_file, delimiter=',')\n",
    "    tweets = [(tweet, sentiment, id) for (topic, sentiment, id, tweet) in iterator]\n",
    "    \n",
    "len(tweets)"
   ]
  },
  {
   "cell_type": "code",
   "execution_count": 48,
   "metadata": {},
   "outputs": [
    {
     "data": {
      "text/plain": [
       "(\"'@bassponton @iphoneclub @kpn @iphone @apple ja. En dan heb je voor dat geld ook nog een datalimiet....'\",\n",
       " 'neutral',\n",
       " '125318029390249984')"
      ]
     },
     "execution_count": 48,
     "metadata": {},
     "output_type": "execute_result"
    }
   ],
   "source": [
    "# Only take 10 tweets so we don't exceed the google cloud usage limit during testing the following code\n",
    "# Comment this out for the real thing\n",
    "#random.shuffle(tweets)\n",
    "tweets = tweets[816:]\n",
    "#len(tweets) # --> 10\n",
    "tweets[0]"
   ]
  },
  {
   "cell_type": "code",
   "execution_count": 49,
   "metadata": {
    "collapsed": true
   },
   "outputs": [],
   "source": [
    "# Some utility functions for preprocessing\n",
    "def remove_urls(text):\n",
    "    return re.sub(r\"http\\S+\", \"\", text)\n",
    "def preprocess(tweet):\n",
    "    # Remove all special characters\n",
    "    return \" \".join([word for word in re.split(\"[\\s;,.#:-@!?'\\\"]\", remove_urls(tweet)) if word.isalpha()])"
   ]
  },
  {
   "cell_type": "code",
   "execution_count": 50,
   "metadata": {},
   "outputs": [],
   "source": [
    "# Perform analysis on all tweets and write to file\n",
    "client = language.LanguageServiceClient()\n",
    "with open('../../../data/interim/sanders_gcloud.csv', 'a', newline='') as out_file:\n",
    "    csv_writer = csv.writer(out_file, delimiter=',')\n",
    "    for (tweet,sentiment,id) in tweets:\n",
    "        # Create the document from the tweet\n",
    "        document = types.Document(\n",
    "            content=tweet,\n",
    "            # PLAIN_TEXT or HTML\n",
    "            type=enums.Document.Type.PLAIN_TEXT)\n",
    "        # Analyze the sentiment\n",
    "        try:\n",
    "            annotations = client.analyze_sentiment(document=document)\n",
    "            # Write the results to the out file\n",
    "            csv_writer.writerow((tweet,sentiment,id,annotations.document_sentiment.score,annotations.document_sentiment.magnitude))\n",
    "        except:\n",
    "            # Write the tweet and an indicator that it didn't work\n",
    "            csv_writer.writerow((tweet,sentiment,id,\"N/A\",\"N/A\"))\n",
    "\n",
    "    out_file.close()"
   ]
  },
  {
   "cell_type": "code",
   "execution_count": 53,
   "metadata": {},
   "outputs": [
    {
     "name": "stdout",
     "output_type": "stream",
     "text": [
      "945 tweets read, 945 valid\n"
     ]
    }
   ],
   "source": [
    "# Check how many were labeled correctly\n",
    "client = language.LanguageServiceClient()\n",
    "with open('../../../data/interim/sanders_gcloud.csv', 'r', newline='') as in_file:\n",
    "    csv_reader = csv.reader(in_file, delimiter=',')\n",
    "    labeled_correctly = 0\n",
    "    # Load all the tweets into memory\n",
    "    # Do filtering here\n",
    "    tweets = [(text, sentiment, id, score, magnitude) for (text, sentiment, id, score, magnitude) in csv_reader \n",
    "              if sentiment == positive_label \n",
    "              or sentiment == negative_label]\n",
    "    valid_tweets = [(text, sentiment, id, score, magnitude) for (text, sentiment, id, score, magnitude) in tweets \n",
    "              if score != \"N/A\" \n",
    "              and magnitude != \"N/A\" ]\n",
    "        \n",
    "print(\"%d tweets read, %d valid\" % (len(tweets),len(valid_tweets)))"
   ]
  },
  {
   "cell_type": "code",
   "execution_count": 54,
   "metadata": {},
   "outputs": [
    {
     "name": "stdout",
     "output_type": "stream",
     "text": [
      "588/945 = 62 percent\n"
     ]
    }
   ],
   "source": [
    "    \n",
    "    for (text,sentiment,id, score, magnitude) in valid_tweets:\n",
    "        if (float(score) < 0 and sentiment == negative_label) or (float(score) > 0 and sentiment == positive_label):\n",
    "            labeled_correctly += 1\n",
    "#        else:\n",
    "#            print(preprocess(tweet))\n",
    "#            print(\"Is %s, was labeled %s\" % (sentiment, polarity))\n",
    "    print(\"%d/%d = %.2d percent\" % (labeled_correctly, len(tweets), labeled_correctly/len(tweets)*100))"
   ]
  },
  {
   "cell_type": "code",
   "execution_count": null,
   "metadata": {
    "collapsed": true
   },
   "outputs": [],
   "source": []
  }
 ],
 "metadata": {
  "kernelspec": {
   "display_name": "Python 3",
   "language": "python",
   "name": "python3"
  },
  "language_info": {
   "codemirror_mode": {
    "name": "ipython",
    "version": 3
   },
   "file_extension": ".py",
   "mimetype": "text/x-python",
   "name": "python",
   "nbconvert_exporter": "python",
   "pygments_lexer": "ipython3",
   "version": "3.6.2"
  }
 },
 "nbformat": 4,
 "nbformat_minor": 2
}
