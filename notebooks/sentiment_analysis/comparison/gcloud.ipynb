{
 "cells": [
  {
   "cell_type": "markdown",
   "metadata": {},
   "source": [
    "# Testing different SA methods 4/5\n",
    "## Textblob\n",
    "*Important: this just analyzes the results which we save beforehand because the API is rate limit*"
   ]
  },
  {
   "cell_type": "code",
   "execution_count": 1,
   "metadata": {
    "collapsed": true
   },
   "outputs": [],
   "source": [
    "# Imports\n",
    "import csv"
   ]
  },
  {
   "cell_type": "code",
   "execution_count": 4,
   "metadata": {},
   "outputs": [
    {
     "name": "stdout",
     "output_type": "stream",
     "text": [
      "945 tweets read, 945 valid\n"
     ]
    }
   ],
   "source": [
    "# Check how many were labeled correctly\n",
    "with open('../../../data/interim/sanders_gcloud.csv', 'r', newline='') as in_file:\n",
    "    csv_reader = csv.reader(in_file, delimiter=',')\n",
    "    labeled_correctly = 0\n",
    "    # Load all the tweets into memory\n",
    "    # Do filtering here\n",
    "    tweets = [(text, sentiment, id, score, magnitude) for (text, sentiment, id, score, magnitude) in csv_reader \n",
    "              if sentiment == 'positive' \n",
    "              or sentiment == 'negative']\n",
    "    # Some tweets couldn't be labeled by the GCloud API, so we filter them out here\n",
    "    valid_tweets = [(text, sentiment, id, score, magnitude) for (text, sentiment, id, score, magnitude) in tweets \n",
    "              if score != \"N/A\" \n",
    "              and magnitude != \"N/A\" ]\n",
    "        \n",
    "print(\"%d tweets read, %d valid\" % (len(tweets),len(valid_tweets)))"
   ]
  },
  {
   "cell_type": "code",
   "execution_count": 6,
   "metadata": {},
   "outputs": [
    {
     "name": "stdout",
     "output_type": "stream",
     "text": [
      "Labeled correctly: 588/945 = 62 percent\n",
      "Labeled not wrong: 773/945 = 81 percent\n"
     ]
    }
   ],
   "source": [
    "labeled_correctly = 0\n",
    "labeled_neutral = 0\n",
    "for (text,sentiment,id, score, magnitude) in valid_tweets:\n",
    "    if (float(score) < 0 and sentiment == 'negative') or (float(score) > 0 and sentiment == 'positive'):\n",
    "        labeled_correctly += 1\n",
    "    elif (float(score) == 0):\n",
    "        labeled_neutral += 1\n",
    "\n",
    "labeled_not_wrong = labeled_neutral + labeled_correctly\n",
    "print(\"Labeled correctly: %d/%d = %.2d percent\" % (labeled_correctly, len(tweets), labeled_correctly/len(tweets)*100))\n",
    "print(\"Labeled not wrong: %d/%d = %.2d percent\" % (labeled_not_wrong, len(tweets), labeled_not_wrong/len(tweets)*100))"
   ]
  },
  {
   "cell_type": "code",
   "execution_count": null,
   "metadata": {
    "collapsed": true
   },
   "outputs": [],
   "source": []
  }
 ],
 "metadata": {
  "kernelspec": {
   "display_name": "Python 3",
   "language": "python",
   "name": "python3"
  },
  "language_info": {
   "codemirror_mode": {
    "name": "ipython",
    "version": 3
   },
   "file_extension": ".py",
   "mimetype": "text/x-python",
   "name": "python",
   "nbconvert_exporter": "python",
   "pygments_lexer": "ipython3",
   "version": "3.6.2"
  }
 },
 "nbformat": 4,
 "nbformat_minor": 2
}
