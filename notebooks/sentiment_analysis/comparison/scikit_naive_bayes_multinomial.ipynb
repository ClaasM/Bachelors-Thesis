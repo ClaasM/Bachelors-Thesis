{
 "cells": [
  {
   "cell_type": "markdown",
   "metadata": {},
   "source": [
    "# Testing different SA methods 6/6\n",
    "## scikit's multinomial naive bayes"
   ]
  },
  {
   "cell_type": "code",
   "execution_count": 4,
   "metadata": {
    "collapsed": true
   },
   "outputs": [],
   "source": [
    "# Imports\n",
    "import csv\n",
    "import pickle\n",
    "import random\n",
    "import time\n",
    "\n",
    "import numpy as np\n",
    "\n",
    "from gensim import corpora\n",
    "from sklearn.naive_bayes import MultinomialNB\n",
    "\n",
    "# Ugly hackery, but necessary: stackoverflow.com/questions/4383571/importing-files-from-different-folder\n",
    "import sys\n",
    "sys.path.append('../../../')\n",
    "    \n",
    "from src.streaming import spark_functions"
   ]
  },
  {
   "cell_type": "code",
   "execution_count": 5,
   "metadata": {
    "collapsed": true
   },
   "outputs": [],
   "source": [
    "preprocess = spark_functions.preprocessor()\n",
    "tokenize = spark_functions.tokenizer()\n",
    "\n",
    "with open('./../../../data/interim/sanders_hydrated.csv') as csv_file:\n",
    "    iterator = csv.reader(csv_file, delimiter=',')\n",
    "    # Load the parts we need and preprocess as well as tokenize the text\n",
    "    tweets = [(tokenize(preprocess(text)), sentiment) for (topic, sentiment, id, text) in iterator]\n",
    "    # The tweets are ordered, so shuffle for the training/test split\n",
    "    random.shuffle(tweets)"
   ]
  },
  {
   "cell_type": "code",
   "execution_count": 6,
   "metadata": {},
   "outputs": [
    {
     "data": {
      "text/plain": [
       "(['android',\n",
       "  'app',\n",
       "  'beam',\n",
       "  'bit',\n",
       "  'galaxy',\n",
       "  'google',\n",
       "  'improvements',\n",
       "  'nexus',\n",
       "  'nexus',\n",
       "  'nfc',\n",
       "  'samsung',\n",
       "  'sharing',\n",
       "  'using'],\n",
       " 'neutral')"
      ]
     },
     "execution_count": 6,
     "metadata": {},
     "output_type": "execute_result"
    }
   ],
   "source": [
    "tweets[0]"
   ]
  },
  {
   "cell_type": "code",
   "execution_count": 7,
   "metadata": {},
   "outputs": [
    {
     "data": {
      "text/plain": [
       "'There are 4347 tweets in this dataset'"
      ]
     },
     "execution_count": 7,
     "metadata": {},
     "output_type": "execute_result"
    }
   ],
   "source": [
    "\"There are %d tweets in this dataset\" % len(tweets)"
   ]
  },
  {
   "cell_type": "code",
   "execution_count": 22,
   "metadata": {},
   "outputs": [
    {
     "name": "stdout",
     "output_type": "stream",
     "text": [
      "Dictionary has length 3961\n"
     ]
    }
   ],
   "source": [
    "def test(classifier, X,Y):\n",
    "    labeled_correctly = 0\n",
    "    for index,vector in enumerate(X):\n",
    "        if classifier.predict([vector]) == Y[index]:\n",
    "            labeled_correctly+=1\n",
    "    print(\"%d/%d = %.2d percent\" % (labeled_correctly, len(X), labeled_correctly/len(X)*100))\n",
    "    \n",
    "# Use the dictionary we already created for the topic model\n",
    "# With its own dict, the accuracy on the sanders data improves significantly\n",
    "dictionary = corpora.Dictionary.load('./../../../data/processed/tweets_sanders.dict')\n",
    "print(\"Dictionary has length %d\" % len(dictionary))\n",
    "\n",
    "# This is different from the one used with the nltk methods\n",
    "def extract_features(document):\n",
    "    document_words = set(document)\n",
    "    features = []\n",
    "    for word in dictionary.token2id:\n",
    "        features.append(word in document_words)\n",
    "    return features"
   ]
  },
  {
   "cell_type": "code",
   "execution_count": 23,
   "metadata": {},
   "outputs": [
    {
     "name": "stdout",
     "output_type": "stream",
     "text": [
      "(3912, 3961)\n",
      "(3912,)\n"
     ]
    }
   ],
   "source": [
    "# Split between training and test set\n",
    "# 90% training, 10% test\n",
    "threshold = int(0.9 * len(tweets))\n",
    "X_train = np.array([extract_features(text) for (text,sentiment) in tweets[:threshold]])\n",
    "Y_train = np.array([sentiment for (text,sentiment) in tweets[:threshold]])\n",
    "X_test = np.array([extract_features(text) for (text,sentiment) in tweets[threshold:]])\n",
    "Y_test = np.array([sentiment for (text,sentiment) in tweets[threshold:]])\n",
    "\n",
    "print(X_train.shape)\n",
    "print(Y_train.shape)"
   ]
  },
  {
   "cell_type": "markdown",
   "metadata": {},
   "source": [
    "Train and test the model with the dict from the streamed tweets and from the sanders dataset to show the descrepancies"
   ]
  },
  {
   "cell_type": "code",
   "execution_count": 24,
   "metadata": {},
   "outputs": [
    {
     "name": "stdout",
     "output_type": "stream",
     "text": [
      "Training took 0 seconds\n",
      "326/435 = 74 percent\n"
     ]
    }
   ],
   "source": [
    "t0 = time.time()\n",
    "classifier = MultinomialNB()\n",
    "classifier.fit(X_train, Y_train)\n",
    "print(\"Training took %d seconds\" % (time.time() - t0))\n",
    "test(classifier, X_test,Y_test)"
   ]
  },
  {
   "cell_type": "code",
   "execution_count": 25,
   "metadata": {},
   "outputs": [
    {
     "name": "stdout",
     "output_type": "stream",
     "text": [
      "Dictionary has length 4929\n",
      "Training took 0 seconds\n",
      "272/435 = 62 percent\n"
     ]
    }
   ],
   "source": [
    "# Try the same thing with the other dictionary\n",
    "dictionary = corpora.Dictionary.load('./../../../data/processed/tweets_stream.dict')\n",
    "print(\"Dictionary has length %d\" % len(dictionary))\n",
    "\n",
    "# The feature vectory obviously need to be redone\n",
    "X_train = np.array([extract_features(text) for (text,sentiment) in tweets[:threshold]])\n",
    "X_test = np.array([extract_features(text) for (text,sentiment) in tweets[threshold:]])\n",
    "\n",
    "t0 = time.time()\n",
    "classifier = MultinomialNB()\n",
    "classifier.fit(X_train, Y_train)\n",
    "print(\"Training took %d seconds\" % (time.time() - t0))\n",
    "test(classifier, X_test,Y_test)"
   ]
  },
  {
   "cell_type": "markdown",
   "metadata": {},
   "source": [
    "This is also not very good (and weirdly similar to the nltk results) --> Maybe create another training set with smileys as labels after all "
   ]
  },
  {
   "cell_type": "code",
   "execution_count": 30,
   "metadata": {},
   "outputs": [],
   "source": [
    "# Save the classifier if it's any good\n",
    "save_classifier = open(\"./../../../models/naive_bayes/scikit_naive_bayes_multinomial.pickle\",\"wb\")\n",
    "pickle.dump(classifier, save_classifier)\n",
    "save_classifier.close()"
   ]
  },
  {
   "cell_type": "code",
   "execution_count": null,
   "metadata": {
    "collapsed": true
   },
   "outputs": [],
   "source": []
  }
 ],
 "metadata": {
  "kernelspec": {
   "display_name": "Python 3",
   "language": "python",
   "name": "python3"
  },
  "language_info": {
   "codemirror_mode": {
    "name": "ipython",
    "version": 3
   },
   "file_extension": ".py",
   "mimetype": "text/x-python",
   "name": "python",
   "nbconvert_exporter": "python",
   "pygments_lexer": "ipython3",
   "version": "3.6.2"
  }
 },
 "nbformat": 4,
 "nbformat_minor": 1
}
