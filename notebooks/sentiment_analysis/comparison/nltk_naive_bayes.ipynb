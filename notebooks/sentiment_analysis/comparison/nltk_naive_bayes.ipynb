{
 "cells": [
  {
   "cell_type": "markdown",
   "metadata": {},
   "source": [
    "# Testing different SA methods 1/5\n",
    "## nltk's naive bayes\n",
    "This code was partly taken from [here](http://www.laurentluce.com/posts/twitter-sentiment-analysis-using-python-and-nltk/)\n",
    "TODO also attribute in thesis"
   ]
  },
  {
   "cell_type": "code",
   "execution_count": 15,
   "metadata": {},
   "outputs": [],
   "source": [
    "import nltk\n",
    "import csv\n",
    "import pickle\n",
    "import random\n",
    "\n",
    "# Ugly hackery, but necessary: stackoverflow.com/questions/4383571/importing-files-from-different-folder\n",
    "import sys\n",
    "sys.path.append('../../../')\n",
    "    \n",
    "from src.streaming import spark_functions"
   ]
  },
  {
   "cell_type": "code",
   "execution_count": 16,
   "metadata": {},
   "outputs": [],
   "source": [
    "preprocess = spark_functions.preprocessor()\n",
    "\n",
    "# This is specific to the dataset\n",
    "negative_label = 'negative'\n",
    "neutral_label = 'neutral'\n",
    "positive_label = 'positive'\n",
    "irrelevant_label = 'irrelevant'\n",
    "\n",
    "with open('./../../../data/interim/sanders_hydrated.csv') as csv_file:\n",
    "    iterator = csv.reader(csv_file, delimiter=',')\n",
    "    # Load the parts we need and preprocess the text\n",
    "    tweets = [(preprocess(text), sentiment) for (topic, sentiment, id, text) in iterator]\n",
    "    # The tweets are ordered, so shuffle for the training/test split\n",
    "    random.shuffle(tweets)"
   ]
  },
  {
   "cell_type": "code",
   "execution_count": 17,
   "metadata": {},
   "outputs": [
    {
     "data": {
      "text/plain": [
       "('Microsoft announces official SQL Server driver for Linux SqlServer',\n",
       " 'neutral')"
      ]
     },
     "execution_count": 17,
     "metadata": {},
     "output_type": "execute_result"
    }
   ],
   "source": [
    "tweets[0]"
   ]
  },
  {
   "cell_type": "code",
   "execution_count": 18,
   "metadata": {},
   "outputs": [
    {
     "data": {
      "text/plain": [
       "'There are 4347 tweets in this dataset'"
      ]
     },
     "execution_count": 18,
     "metadata": {},
     "output_type": "execute_result"
    }
   ],
   "source": [
    "\"There are %d tweets in this dataset\" % len(tweets)"
   ]
  },
  {
   "cell_type": "code",
   "execution_count": 8,
   "metadata": {
    "collapsed": true
   },
   "outputs": [],
   "source": [
    "# Split between training and test set\n",
    "# 90% training, 10% test\n",
    "threshold = int(0.9 * len(tweets))\n",
    "train_tweets = tweets[:threshold]\n",
    "test_tweets = tweets[threshold:]"
   ]
  },
  {
   "cell_type": "code",
   "execution_count": 10,
   "metadata": {
    "collapsed": true
   },
   "outputs": [],
   "source": [
    "# Use the dictionary we already created for the topic model\n",
    "# TODO create the dictionary with a separate script and also prune it and use it here and for wordcount"
   ]
  },
  {
   "cell_type": "code",
   "execution_count": 11,
   "metadata": {
    "collapsed": true
   },
   "outputs": [],
   "source": [
    "# TODO there might be a function like this in nltk?\n",
    "def extract_features(document):\n",
    "    document_words = set(document)\n",
    "    features = {}\n",
    "    for word in dictionary.id2token:\n",
    "        features['contains(%s)' % word] = (word in dictionary)\n",
    "    return features"
   ]
  },
  {
   "cell_type": "code",
   "execution_count": 12,
   "metadata": {
    "collapsed": true
   },
   "outputs": [],
   "source": [
    "training_set = nltk.classify.apply_features(extract_features, train_tweets)"
   ]
  },
  {
   "cell_type": "code",
   "execution_count": 13,
   "metadata": {
    "collapsed": true
   },
   "outputs": [],
   "source": [
    "classifier = nltk.NaiveBayesClassifier.train(training_set)"
   ]
  },
  {
   "cell_type": "code",
   "execution_count": 14,
   "metadata": {},
   "outputs": [
    {
     "name": "stdout",
     "output_type": "stream",
     "text": [
      "neutral\n"
     ]
    }
   ],
   "source": [
    "tweet = 'Larry is not my friend'\n",
    "print(classifier.classify(extract_features(tweet.split())))"
   ]
  },
  {
   "cell_type": "code",
   "execution_count": 17,
   "metadata": {},
   "outputs": [
    {
     "name": "stdout",
     "output_type": "stream",
     "text": [
      "693/845 = 82 percent\n"
     ]
    }
   ],
   "source": [
    "labeled_correctly = 0\n",
    "for tweet in test_tweets:\n",
    "    if classifier.classify(extract_features(tweet[0])) == tweet[1]:\n",
    "        labeled_correctly+=1\n",
    "print(\"%d/%d = %.2d percent\" % (labeled_correctly, len(test_tweets), labeled_correctly/len(test_tweets)*100))"
   ]
  },
  {
   "cell_type": "code",
   "execution_count": 15,
   "metadata": {
    "collapsed": true
   },
   "outputs": [],
   "source": [
    "# Save the classifier if it's any good\n",
    "save_classifier = open(\"./../../models/naive_bayes/nltk_naive_bayes.pickle\",\"wb\")\n",
    "pickle.dump(classifier, save_classifier)\n",
    "save_classifier.close()"
   ]
  }
 ],
 "metadata": {
  "kernelspec": {
   "display_name": "Python 3",
   "language": "python",
   "name": "python3"
  },
  "language_info": {
   "codemirror_mode": {
    "name": "ipython",
    "version": 3
   },
   "file_extension": ".py",
   "mimetype": "text/x-python",
   "name": "python",
   "nbconvert_exporter": "python",
   "pygments_lexer": "ipython3",
   "version": "3.6.2"
  }
 },
 "nbformat": 4,
 "nbformat_minor": 2
}
