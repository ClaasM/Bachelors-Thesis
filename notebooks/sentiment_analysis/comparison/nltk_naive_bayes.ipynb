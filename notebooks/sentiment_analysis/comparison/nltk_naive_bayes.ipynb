{
 "cells": [
  {
   "cell_type": "markdown",
   "metadata": {},
   "source": [
    "# Testing different SA methods 1/5\n",
    "## nltk's naive bayes\n",
    "This code was partly taken from [here](http://www.laurentluce.com/posts/twitter-sentiment-analysis-using-python-and-nltk/)\n",
    "TODO also attribute in thesis"
   ]
  },
  {
   "cell_type": "code",
   "execution_count": 18,
   "metadata": {},
   "outputs": [
    {
     "name": "stdout",
     "output_type": "stream",
     "text": [
      "4347\n"
     ]
    }
   ],
   "source": [
    "# Imports\n",
    "import nltk\n",
    "import csv\n",
    "import pickle\n",
    "import random\n",
    "import time\n",
    "\n",
    "from gensim import corpora\n",
    "\n",
    "# Ugly hackery, but necessary: stackoverflow.com/questions/4383571/importing-files-from-different-folder\n",
    "import sys\n",
    "sys.path.append('../../../')\n",
    "    \n",
    "from src.streaming import spark_functions\n",
    "\n",
    "preprocess = spark_functions.preprocessor()\n",
    "tokenize = spark_functions.tokenizer(remove_stopwords=False)\n",
    "\n",
    "with open('./../../../data/interim/sanders_hydrated.csv') as csv_file:\n",
    "    iterator = csv.reader(csv_file, delimiter=',')\n",
    "    # Load the parts we need and preprocess as well as tokenize the text\n",
    "    tweets = [(tokenize(preprocess(text)), sentiment) for (topic, sentiment, id, text) in iterator if sentiment == \"positive\" or sentiment == \"negative\"]\n",
    "    # The tweets are ordered, so shuffle for the training/test split\n",
    "    random.shuffle(tweets)\n",
    "    \n",
    "# Split between training and test set\n",
    "# 90% training, 10% test\n",
    "threshold = int(0.9 * len(tweets))\n",
    "train_tweets = tweets[:threshold]\n",
    "test_tweets = tweets[threshold:]"
   ]
  },
  {
   "cell_type": "code",
   "execution_count": 10,
   "metadata": {
    "collapsed": true
   },
   "outputs": [],
   "source": [
    "# TODO there might be a function like this in nltk?\n",
    "def extract_features(document):\n",
    "    document_words = set(document)\n",
    "    features = {}\n",
    "    # TODO do on dictionary without stopwords removed (results are the same though, see the sentiment analyzer notebook)\n",
    "    for word in dictionary.token2id:\n",
    "        features['contains(%s)' % word] = (word in document_words)\n",
    "    return features\n",
    "\n",
    "def test(classifier, test_tweets):\n",
    "    labeled_correctly = 0\n",
    "    for tweet in test_tweets:\n",
    "        if classifier.classify(extract_features(tweet[0])) == tweet[1]:\n",
    "            labeled_correctly+=1\n",
    "    print(\"%d/%d = %.2d percent\" % (labeled_correctly, len(test_tweets), labeled_correctly/len(test_tweets)*100))"
   ]
  },
  {
   "cell_type": "markdown",
   "metadata": {},
   "source": [
    "Train and test the model with the dict from the streamed tweets and from the sanders dataset to show the descrepancies"
   ]
  },
  {
   "cell_type": "code",
   "execution_count": 11,
   "metadata": {},
   "outputs": [
    {
     "name": "stdout",
     "output_type": "stream",
     "text": [
      "The dictionary has length 3961\n",
      "Feature extraction and training took 9 seconds\n",
      "69/95 = 72 percent\n"
     ]
    }
   ],
   "source": [
    "# Use the dictionary we already created for the topic model\n",
    "# With its own dict, the accuracy on the sanders data improves significantly\n",
    "dictionary = corpora.Dictionary.load('./../../../data/processed/tweets_sanders.dict')\n",
    "print(\"The dictionary has length %d\" % len(dictionary.token2id))\n",
    "t0 = time.time()\n",
    "training_set = nltk.classify.apply_features(extract_features, train_tweets)\n",
    "classifier = nltk.NaiveBayesClassifier.train(training_set)\n",
    "print(\"Feature extraction and training took %d seconds\" % (time.time() - t0))\n",
    "test(classifier, test_tweets)"
   ]
  },
  {
   "cell_type": "code",
   "execution_count": 12,
   "metadata": {},
   "outputs": [],
   "source": [
    "total = 0\n",
    "labels = {\"neutral\":0,\"irrelevant\":0, \"negative\":0, \"positive\":0}\n",
    "reality = {\"neutral\":0,\"irrelevant\":0, \"negative\":0, \"positive\":0}\n",
    "for tweet in test_tweets:\n",
    "    total+=1\n",
    "    label = classifier.classify(extract_features(tweet[0]))\n",
    "    labels[label]+=1\n",
    "    reality[tweet[1]]+=1"
   ]
  },
  {
   "cell_type": "code",
   "execution_count": 13,
   "metadata": {},
   "outputs": [
    {
     "name": "stdout",
     "output_type": "stream",
     "text": [
      "neutral & 0 & 0\\% & 0 & 0\\%\n",
      "irrelevant & 0 & 0\\% & 0 & 0\\%\n",
      "negative & 47 & 49\\% & 49 & 51\\%\n",
      "positive & 48 & 50\\% & 46 & 48\\%\n"
     ]
    }
   ],
   "source": [
    "for key in reality:\n",
    "    label = labels[key]\n",
    "    value = reality[key]\n",
    "    print(\"%s & %d & %d\\%% & %d & %d\\%%\" % (key, value, value/total*100, label,label/total*100))"
   ]
  },
  {
   "cell_type": "code",
   "execution_count": 14,
   "metadata": {},
   "outputs": [
    {
     "name": "stdout",
     "output_type": "stream",
     "text": [
      "70/95 = 73 percent\n"
     ]
    }
   ],
   "source": [
    "# Try the same thing with the other dictionary\n",
    "dictionary = corpora.Dictionary.load('./../../../data/processed/tweets_stream.dict')\n",
    "t0 = time.time()\n",
    "training_set = nltk.classify.apply_features(extract_features, train_tweets)\n",
    "classifier = nltk.NaiveBayesClassifier.train(training_set)\n",
    "\"Feature extraction and training took %d seconds\" % (time.time() - t0)\n",
    "test(classifier, test_tweets)"
   ]
  },
  {
   "cell_type": "code",
   "execution_count": 15,
   "metadata": {},
   "outputs": [
    {
     "name": "stdout",
     "output_type": "stream",
     "text": [
      "positive\n"
     ]
    }
   ],
   "source": [
    "# Some showcasing\n",
    "tweet = 'Larry is not my friend'\n",
    "print(classifier.classify(extract_features(tokenize(preprocess(tweet)))))"
   ]
  },
  {
   "cell_type": "code",
   "execution_count": 16,
   "metadata": {},
   "outputs": [
    {
     "ename": "FileNotFoundError",
     "evalue": "[Errno 2] No such file or directory: './../../models/naive_bayes/nltk_naive_bayes.pickle'",
     "output_type": "error",
     "traceback": [
      "\u001b[0;31m---------------------------------------------------------------------------\u001b[0m",
      "\u001b[0;31mFileNotFoundError\u001b[0m                         Traceback (most recent call last)",
      "\u001b[0;32m<ipython-input-16-32c9afbf7e5f>\u001b[0m in \u001b[0;36m<module>\u001b[0;34m()\u001b[0m\n\u001b[1;32m      1\u001b[0m \u001b[0;31m# Save the classifier if it's any good\u001b[0m\u001b[0;34m\u001b[0m\u001b[0;34m\u001b[0m\u001b[0m\n\u001b[0;32m----> 2\u001b[0;31m \u001b[0msave_classifier\u001b[0m \u001b[0;34m=\u001b[0m \u001b[0mopen\u001b[0m\u001b[0;34m(\u001b[0m\u001b[0;34m\"./../../models/naive_bayes/nltk_naive_bayes.pickle\"\u001b[0m\u001b[0;34m,\u001b[0m\u001b[0;34m\"wb\"\u001b[0m\u001b[0;34m)\u001b[0m\u001b[0;34m\u001b[0m\u001b[0m\n\u001b[0m\u001b[1;32m      3\u001b[0m \u001b[0mpickle\u001b[0m\u001b[0;34m.\u001b[0m\u001b[0mdump\u001b[0m\u001b[0;34m(\u001b[0m\u001b[0mclassifier\u001b[0m\u001b[0;34m,\u001b[0m \u001b[0msave_classifier\u001b[0m\u001b[0;34m)\u001b[0m\u001b[0;34m\u001b[0m\u001b[0m\n\u001b[1;32m      4\u001b[0m \u001b[0msave_classifier\u001b[0m\u001b[0;34m.\u001b[0m\u001b[0mclose\u001b[0m\u001b[0;34m(\u001b[0m\u001b[0;34m)\u001b[0m\u001b[0;34m\u001b[0m\u001b[0m\n",
      "\u001b[0;31mFileNotFoundError\u001b[0m: [Errno 2] No such file or directory: './../../models/naive_bayes/nltk_naive_bayes.pickle'"
     ]
    }
   ],
   "source": [
    "# Save the classifier if it's any good\n",
    "save_classifier = open(\"./../../models/naive_bayes/nltk_naive_bayes.pickle\",\"wb\")\n",
    "pickle.dump(classifier, save_classifier)\n",
    "save_classifier.close()"
   ]
  },
  {
   "cell_type": "code",
   "execution_count": null,
   "metadata": {
    "collapsed": true
   },
   "outputs": [],
   "source": []
  }
 ],
 "metadata": {
  "kernelspec": {
   "display_name": "Python 3",
   "language": "python",
   "name": "python3"
  },
  "language_info": {
   "codemirror_mode": {
    "name": "ipython",
    "version": 3
   },
   "file_extension": ".py",
   "mimetype": "text/x-python",
   "name": "python",
   "nbconvert_exporter": "python",
   "pygments_lexer": "ipython3",
   "version": "3.6.2"
  }
 },
 "nbformat": 4,
 "nbformat_minor": 1
}
