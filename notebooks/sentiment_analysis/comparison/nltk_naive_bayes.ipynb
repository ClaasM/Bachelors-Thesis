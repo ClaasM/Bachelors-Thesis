{
 "cells": [
  {
   "cell_type": "markdown",
   "metadata": {},
   "source": [
    "# Testing different SA methods 1/5\n",
    "## nltk's naive bayes\n",
    "This code was partly taken from [here](http://www.laurentluce.com/posts/twitter-sentiment-analysis-using-python-and-nltk/)\n",
    "TODO also attribute in thesis"
   ]
  },
  {
   "cell_type": "code",
   "execution_count": 35,
   "metadata": {
    "collapsed": true
   },
   "outputs": [],
   "source": [
    "# Imports\n",
    "import nltk\n",
    "import csv\n",
    "import pickle\n",
    "import random\n",
    "import time\n",
    "\n",
    "from gensim import corpora\n",
    "\n",
    "# Ugly hackery, but necessary: stackoverflow.com/questions/4383571/importing-files-from-different-folder\n",
    "import sys\n",
    "sys.path.append('../../../')\n",
    "    \n",
    "from src.streaming import spark_functions"
   ]
  },
  {
   "cell_type": "code",
   "execution_count": 36,
   "metadata": {
    "collapsed": true
   },
   "outputs": [],
   "source": [
    "preprocess = spark_functions.preprocessor()\n",
    "tokenize = spark_functions.tokenizer()\n",
    "\n",
    "with open('./../../../data/interim/sanders_hydrated.csv') as csv_file:\n",
    "    iterator = csv.reader(csv_file, delimiter=',')\n",
    "    # Load the parts we need and preprocess as well as tokenize the text\n",
    "    tweets = [(tokenize(preprocess(text)), sentiment) for (topic, sentiment, id, text) in iterator]\n",
    "    # The tweets are ordered, so shuffle for the training/test split\n",
    "    random.shuffle(tweets)"
   ]
  },
  {
   "cell_type": "code",
   "execution_count": 37,
   "metadata": {},
   "outputs": [
    {
     "data": {
      "text/plain": [
       "(['along',\n",
       "  'buzz',\n",
       "  'four',\n",
       "  'google',\n",
       "  'including',\n",
       "  'jaiku',\n",
       "  'jaiku',\n",
       "  'junkyard',\n",
       "  'liked',\n",
       "  'services'],\n",
       " 'neutral')"
      ]
     },
     "execution_count": 37,
     "metadata": {},
     "output_type": "execute_result"
    }
   ],
   "source": [
    "tweets[0]"
   ]
  },
  {
   "cell_type": "code",
   "execution_count": 38,
   "metadata": {},
   "outputs": [
    {
     "data": {
      "text/plain": [
       "'There are 4347 tweets in this dataset'"
      ]
     },
     "execution_count": 38,
     "metadata": {},
     "output_type": "execute_result"
    }
   ],
   "source": [
    "\"There are %d tweets in this dataset\" % len(tweets)"
   ]
  },
  {
   "cell_type": "code",
   "execution_count": 39,
   "metadata": {
    "collapsed": true
   },
   "outputs": [],
   "source": [
    "# Split between training and test set\n",
    "# 90% training, 10% test\n",
    "threshold = int(0.9 * len(tweets))\n",
    "train_tweets = tweets[:threshold]\n",
    "test_tweets = tweets[threshold:]"
   ]
  },
  {
   "cell_type": "code",
   "execution_count": 49,
   "metadata": {},
   "outputs": [
    {
     "data": {
      "text/plain": [
       "3961"
      ]
     },
     "execution_count": 49,
     "metadata": {},
     "output_type": "execute_result"
    }
   ],
   "source": [
    "# TODO Bring all other Notebooks into this format"
   ]
  },
  {
   "cell_type": "code",
   "execution_count": 58,
   "metadata": {
    "collapsed": true
   },
   "outputs": [],
   "source": [
    "# TODO there might be a function like this in nltk?\n",
    "def extract_features(document):\n",
    "    document_words = set(document)\n",
    "    features = {}\n",
    "    for word in dictionary.token2id:\n",
    "        features['contains(%s)' % word] = (word in document_words)\n",
    "    return features\n",
    "\n",
    "def test(classifier, test_tweets):\n",
    "    labeled_correctly = 0\n",
    "    for tweet in test_tweets:\n",
    "        if classifier.classify(extract_features(tweet[0])) == tweet[1]:\n",
    "            labeled_correctly+=1\n",
    "    print(\"%d/%d = %.2d percent\" % (labeled_correctly, len(test_tweets), labeled_correctly/len(test_tweets)*100))"
   ]
  },
  {
   "cell_type": "markdown",
   "metadata": {},
   "source": [
    "Train and test the model with the dict from the streamed tweets and from the sanders dataset to show the descrepancies"
   ]
  },
  {
   "cell_type": "code",
   "execution_count": 61,
   "metadata": {},
   "outputs": [
    {
     "name": "stdout",
     "output_type": "stream",
     "text": [
      "Feature extraction and training took 49 seconds\n",
      "322/435 = 74 percent\n"
     ]
    }
   ],
   "source": [
    "# Use the dictionary we already created for the topic model\n",
    "# With its own dict, the accuracy on the sanders data improves significantly\n",
    "dictionary = corpora.Dictionary.load('./../../../data/processed/tweets_sanders.dict')\n",
    "t0 = time.time()\n",
    "training_set = nltk.classify.apply_features(extract_features, train_tweets)\n",
    "classifier = nltk.NaiveBayesClassifier.train(training_set)\n",
    "print(\"Feature extraction and training took %d seconds\" % (time.time() - t0))\n",
    "test(classifier, test_tweets)"
   ]
  },
  {
   "cell_type": "code",
   "execution_count": 62,
   "metadata": {},
   "outputs": [
    {
     "name": "stdout",
     "output_type": "stream",
     "text": [
      "272/435 = 62 percent\n"
     ]
    }
   ],
   "source": [
    "# Try the same thing with the other dictionary\n",
    "dictionary = corpora.Dictionary.load('./../../../data/processed/tweets_stream.dict')\n",
    "t0 = time.time()\n",
    "training_set = nltk.classify.apply_features(extract_features, train_tweets)\n",
    "classifier = nltk.NaiveBayesClassifier.train(training_set)\n",
    "\"Feature extraction and training took %d seconds\" % (time.time() - t0)\n",
    "test(classifier, test_tweets)"
   ]
  },
  {
   "cell_type": "code",
   "execution_count": 65,
   "metadata": {},
   "outputs": [
    {
     "name": "stdout",
     "output_type": "stream",
     "text": [
      "neutral\n"
     ]
    }
   ],
   "source": [
    "# Some showcasing\n",
    "tweet = 'Larry is not my friend'\n",
    "print(classifier.classify(extract_features(tokenize(preprocess(tweet)))))"
   ]
  },
  {
   "cell_type": "code",
   "execution_count": 15,
   "metadata": {
    "collapsed": true
   },
   "outputs": [],
   "source": [
    "# Save the classifier if it's any good\n",
    "save_classifier = open(\"./../../models/naive_bayes/nltk_naive_bayes.pickle\",\"wb\")\n",
    "pickle.dump(classifier, save_classifier)\n",
    "save_classifier.close()"
   ]
  }
 ],
 "metadata": {
  "kernelspec": {
   "display_name": "Python 3",
   "language": "python",
   "name": "python3"
  },
  "language_info": {
   "codemirror_mode": {
    "name": "ipython",
    "version": 3
   },
   "file_extension": ".py",
   "mimetype": "text/x-python",
   "name": "python",
   "nbconvert_exporter": "python",
   "pygments_lexer": "ipython3",
   "version": "3.6.2"
  }
 },
 "nbformat": 4,
 "nbformat_minor": 2
}
