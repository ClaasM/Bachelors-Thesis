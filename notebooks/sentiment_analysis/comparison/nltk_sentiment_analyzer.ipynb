{
 "cells": [
  {
   "cell_type": "markdown",
   "metadata": {},
   "source": [
    "# Example from www.nltk.org/howto/sentiment.html\n",
    "# Testing different SA methods\n",
    "## nltk's sentiment analyzer"
   ]
  },
  {
   "cell_type": "code",
   "execution_count": 28,
   "metadata": {
    "collapsed": true
   },
   "outputs": [],
   "source": [
    "import nltk\n",
    "import csv\n",
    "import pickle\n",
    "from nltk.classify import NaiveBayesClassifier\n",
    "from nltk.sentiment import SentimentAnalyzer\n",
    "import random"
   ]
  },
  {
   "cell_type": "code",
   "execution_count": 29,
   "metadata": {
    "collapsed": true
   },
   "outputs": [],
   "source": [
    "# This is specific to the dataset\n",
    "negative_label = 'negative'\n",
    "neutral_label = 'neutral'\n",
    "positive_label = 'positive'\n",
    "irrelevant_label = 'irrelevant'\n",
    "with open('./../../../data/external/sanders.csv') as csv_file:\n",
    "    iterator = csv.reader(csv_file, delimiter=',')\n",
    "    # Only keep entries with positive or negative sentiment\n",
    "    tweets = [(tweet, sentiment) for (topic, sentiment, id, tweet) in iterator] # if sentiment == negative_label or sentiment == positive_label\n",
    "    # The tweets are ordered, so shuffle for the training/test split\n",
    "    random.shuffle(tweets)"
   ]
  },
  {
   "cell_type": "code",
   "execution_count": 31,
   "metadata": {},
   "outputs": [
    {
     "data": {
      "text/plain": [
       "4345"
      ]
     },
     "execution_count": 31,
     "metadata": {},
     "output_type": "execute_result"
    }
   ],
   "source": [
    "len(tweets)"
   ]
  },
  {
   "cell_type": "code",
   "execution_count": 33,
   "metadata": {},
   "outputs": [
    {
     "data": {
      "text/plain": [
       "([\"'\",\n",
       "  '#Fcbk',\n",
       "  'empieza',\n",
       "  'a',\n",
       "  'agregar',\n",
       "  'nuevas',\n",
       "  'aplicaciones',\n",
       "  'volviendose',\n",
       "  'cada',\n",
       "  'vez',\n",
       "  'mas',\n",
       "  'obsoleto',\n",
       "  'y',\n",
       "  'aburrido',\n",
       "  '...',\n",
       "  '#Twitter',\n",
       "  'es',\n",
       "  'mejor',\n",
       "  'que',\n",
       "  '#fcbk',\n",
       "  '#hedicho',\n",
       "  '#jum',\n",
       "  \"'\"],\n",
       " 'irrelevant')"
      ]
     },
     "execution_count": 33,
     "metadata": {},
     "output_type": "execute_result"
    }
   ],
   "source": [
    "# Preprocess tweets\n",
    "preprocessed_tweets = preprocess(tweets)\n",
    "preprocessed_tweets[0]"
   ]
  },
  {
   "cell_type": "code",
   "execution_count": 34,
   "metadata": {
    "collapsed": true
   },
   "outputs": [],
   "source": [
    "# Split between training and test set\n",
    "# 90% training, 10% test\n",
    "threshold = int(0.9 * len(preprocessed_tweets))\n",
    "train_tweets = preprocessed_tweets[:threshold]\n",
    "test_tweets = preprocessed_tweets[threshold:]"
   ]
  },
  {
   "cell_type": "code",
   "execution_count": 35,
   "metadata": {
    "collapsed": true
   },
   "outputs": [],
   "source": [
    "sentim_analyzer = SentimentAnalyzer()\n",
    "all_words_neg = sentim_analyzer.all_words([nltk.sentiment.util.mark_negation(doc) for doc in train_tweets])"
   ]
  },
  {
   "cell_type": "markdown",
   "metadata": {},
   "source": [
    "We use simple unigram word features, handling negation:"
   ]
  },
  {
   "cell_type": "code",
   "execution_count": 36,
   "metadata": {},
   "outputs": [
    {
     "data": {
      "text/plain": [
       "1678"
      ]
     },
     "execution_count": 36,
     "metadata": {},
     "output_type": "execute_result"
    }
   ],
   "source": [
    "unigram_feats = sentim_analyzer.unigram_word_feats(all_words_neg, min_freq=4)\n",
    "len(unigram_feats)"
   ]
  },
  {
   "cell_type": "code",
   "execution_count": 37,
   "metadata": {
    "collapsed": true
   },
   "outputs": [],
   "source": [
    "sentim_analyzer.add_feat_extractor(nltk.sentiment.util.extract_unigram_feats, unigrams=unigram_feats)"
   ]
  },
  {
   "cell_type": "markdown",
   "metadata": {},
   "source": [
    "We apply features to obtain a feature-value representation of our datasets:"
   ]
  },
  {
   "cell_type": "code",
   "execution_count": 38,
   "metadata": {
    "collapsed": true
   },
   "outputs": [],
   "source": [
    "training_set = sentim_analyzer.apply_features(train_tweets)\n",
    "test_set = sentim_analyzer.apply_features(test_tweets)"
   ]
  },
  {
   "cell_type": "markdown",
   "metadata": {},
   "source": [
    "We can now train our classifier on the training set, and subsequently output the evaluation results:"
   ]
  },
  {
   "cell_type": "code",
   "execution_count": 39,
   "metadata": {},
   "outputs": [
    {
     "name": "stdout",
     "output_type": "stream",
     "text": [
      "Training classifier\n"
     ]
    }
   ],
   "source": [
    "trainer = NaiveBayesClassifier.train\n",
    "classifier = sentim_analyzer.train(trainer, training_set)\n",
    "# TODO check source (sadly the dataset cannot be downloaded)\n",
    "# nltk.sentiment.util.demo_tweets(trainer)"
   ]
  },
  {
   "cell_type": "code",
   "execution_count": 40,
   "metadata": {},
   "outputs": [
    {
     "name": "stdout",
     "output_type": "stream",
     "text": [
      "Evaluating NaiveBayesClassifier results...\n",
      "Accuracy: 0.7172413793103448\n",
      "F-measure [irrelevant]: 0.851190476190476\n",
      "F-measure [negative]: 0.5346534653465346\n",
      "F-measure [neutral]: 0.7191011235955056\n",
      "F-measure [positive]: 0.36363636363636365\n",
      "Precision [irrelevant]: 0.7944444444444444\n",
      "Precision [negative]: 0.5192307692307693\n",
      "Precision [neutral]: 0.7150837988826816\n",
      "Precision [positive]: 0.5833333333333334\n",
      "Recall [irrelevant]: 0.9166666666666666\n",
      "Recall [negative]: 0.5510204081632653\n",
      "Recall [neutral]: 0.7231638418079096\n",
      "Recall [positive]: 0.2641509433962264\n"
     ]
    }
   ],
   "source": [
    "for key,value in sorted(sentim_analyzer.evaluate(test_set).items()):\n",
    "    print('{0}: {1}'.format(key, value))"
   ]
  },
  {
   "cell_type": "code",
   "execution_count": 41,
   "metadata": {
    "collapsed": true
   },
   "outputs": [],
   "source": [
    "# SAVE AND LOAD\n",
    "\n",
    "# optional to save your classifier so you can load it elsewhere without having to rebuild training set every time\n",
    "save_classifier = open(\"./../../models/naive_bayes/nltk_sentiment_analyzer_all_labels.pickle\",\"wb\")\n",
    "pickle.dump(sentim_analyzer, save_classifier)\n",
    "save_classifier.close()"
   ]
  }
 ],
 "metadata": {
  "kernelspec": {
   "display_name": "Python 3",
   "language": "python",
   "name": "python3"
  },
  "language_info": {
   "codemirror_mode": {
    "name": "ipython",
    "version": 3
   },
   "file_extension": ".py",
   "mimetype": "text/x-python",
   "name": "python",
   "nbconvert_exporter": "python",
   "pygments_lexer": "ipython3",
   "version": "3.6.2"
  }
 },
 "nbformat": 4,
 "nbformat_minor": 1
}
