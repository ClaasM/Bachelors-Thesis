{
 "cells": [
  {
   "cell_type": "markdown",
   "metadata": {},
   "source": [
    "# Testing different SA methods 3/5\n",
    "## nltk's vader\n",
    "TODO attribute the VADER paper here and in the thesis"
   ]
  },
  {
   "cell_type": "code",
   "execution_count": 2,
   "metadata": {
    "collapsed": true
   },
   "outputs": [],
   "source": [
    "import csv\n",
    "\n",
    "from nltk.sentiment.vader import SentimentIntensityAnalyzer\n",
    "\n",
    "# Ugly hackery, but necessary: stackoverflow.com/questions/4383571/importing-files-from-different-folder\n",
    "import sys\n",
    "sys.path.append('../../../')\n",
    "    \n",
    "from src.streaming import spark_functions"
   ]
  },
  {
   "cell_type": "code",
   "execution_count": 16,
   "metadata": {},
   "outputs": [],
   "source": [
    "preprocess = spark_functions.preprocessor()\n",
    "tokenize = spark_functions.tokenizer()\n",
    "\n",
    "with open('./../../../data/interim/sanders_hydrated.csv') as csv_file:\n",
    "    iterator = csv.reader(csv_file, delimiter=',')\n",
    "    # Load the parts we need and preprocess as well as tokenize the text\n",
    "    tweets = [(preprocess(text), sentiment) for (topic, sentiment, id, text) in iterator if sentiment=='positive' or sentiment=='negative']"
   ]
  },
  {
   "cell_type": "code",
   "execution_count": 19,
   "metadata": {},
   "outputs": [
    {
     "name": "stdout",
     "output_type": "stream",
     "text": [
      "Labeled correctly: 512/946 = 54 percent\n",
      "Labeled not wrong: 707/946 = 74 percent\n"
     ]
    }
   ],
   "source": [
    "sid = SentimentIntensityAnalyzer()\n",
    "labeled_correctly = 0\n",
    "labeled_neutral = 0\n",
    "for (tweet,sentiment) in tweets:\n",
    "    ss = sid.polarity_scores(tweet)\n",
    "    if (ss['neg'] > ss['pos'] and sentiment == 'negative') or (ss['neg'] < ss['pos'] and sentiment == 'positive'):\n",
    "        labeled_correctly += 1\n",
    "    elif ss['neg'] == ss['pos']:\n",
    "        labeled_neutral += 1\n",
    "\n",
    "labeled_not_wrong = labeled_neutral + labeled_correctly\n",
    "print(\"Labeled correctly: %d/%d = %.2d percent\" % (labeled_correctly, len(tweets), labeled_correctly/len(tweets)*100))\n",
    "print(\"Labeled not wrong: %d/%d = %.2d percent\" % (labeled_not_wrong, len(tweets), labeled_not_wrong/len(tweets)*100))"
   ]
  },
  {
   "cell_type": "code",
   "execution_count": 18,
   "metadata": {},
   "outputs": [
    {
     "name": "stdout",
     "output_type": "stream",
     "text": [
      "Loaded 1 tweets\r",
      "Loaded 2 tweets\r",
      "Loaded 3 tweets\r",
      "Loaded 4 tweets\r",
      "Loaded 5 tweets\r",
      "Loaded 6 tweets\r",
      "Loaded 7 tweets\r",
      "Loaded 8 tweets\r",
      "Loaded 9 tweets\r",
      "Loaded 10 tweets\r",
      "Loaded 11 tweets\r",
      "Loaded 12 tweets\r",
      "Loaded 13 tweets\r",
      "Loaded 14 tweets\r",
      "Loaded 15 tweets\r",
      "Loaded 16 tweets\r",
      "Loaded 17 tweets\r",
      "Loaded 18 tweets\r",
      "Loaded 19 tweets\r",
      "Loaded 20 tweets\r",
      "Loaded 21 tweets\r",
      "Loaded 22 tweets\r",
      "Loaded 23 tweets\r",
      "Loaded 24 tweets\r",
      "Loaded 25 tweets\r",
      "Loaded 26 tweets\r",
      "Loaded 27 tweets\r",
      "Loaded 28 tweets\r",
      "Loaded 29 tweets\r",
      "Loaded 30 tweets\r",
      "Loaded 31 tweets\r",
      "Loaded 32 tweets\r",
      "Loaded 33 tweets\r",
      "Loaded 34 tweets\r",
      "Loaded 35 tweets\r",
      "Loaded 36 tweets\r",
      "Loaded 37 tweets\r",
      "Loaded 38 tweets\r",
      "Loaded 39 tweets\r",
      "Loaded 40 tweets\r",
      "Loaded 41 tweets\r",
      "Loaded 42 tweets\r",
      "Loaded 43 tweets\r",
      "Loaded 44 tweets\r",
      "Loaded 45 tweets\r",
      "Loaded 46 tweets\r",
      "Loaded 47 tweets\r",
      "Loaded 48 tweets\r",
      "Loaded 49 tweets\r",
      "Loaded 50 tweets\r",
      "Loaded 50 tweets\n",
      "Loaded 1 tweets\r",
      "Loaded 2 tweets\r",
      "Loaded 3 tweets\r",
      "Loaded 4 tweets\r",
      "Loaded 5 tweets\r",
      "Loaded 6 tweets\r",
      "Loaded 7 tweets\r",
      "Loaded 8 tweets\r",
      "Loaded 9 tweets\r",
      "Loaded 10 tweets\r",
      "Loaded 11 tweets\r",
      "Loaded 12 tweets\r",
      "Loaded 13 tweets\r",
      "Loaded 14 tweets\r",
      "Loaded 15 tweets\r",
      "Loaded 16 tweets\r",
      "Loaded 17 tweets\r",
      "Loaded 18 tweets\r",
      "Loaded 19 tweets\r",
      "Loaded 20 tweets\r",
      "Loaded 21 tweets\r",
      "Loaded 22 tweets\r",
      "Loaded 23 tweets\r",
      "Loaded 24 tweets\r",
      "Loaded 25 tweets\r",
      "Loaded 26 tweets\r",
      "Loaded 27 tweets\r",
      "Loaded 28 tweets\r",
      "Loaded 29 tweets\r",
      "Loaded 30 tweets\r",
      "Loaded 31 tweets\r",
      "Loaded 32 tweets\r",
      "Loaded 33 tweets\r",
      "Loaded 34 tweets\r",
      "Loaded 35 tweets\r",
      "Loaded 36 tweets\r",
      "Loaded 37 tweets\r",
      "Loaded 38 tweets\r",
      "Loaded 39 tweets\r",
      "Loaded 40 tweets\r",
      "Loaded 41 tweets\r",
      "Loaded 42 tweets\r",
      "Loaded 43 tweets\r",
      "Loaded 44 tweets\r",
      "Loaded 45 tweets\r",
      "Loaded 46 tweets\r",
      "Loaded 47 tweets\r",
      "Loaded 48 tweets\r",
      "Loaded 49 tweets\r",
      "Loaded 50 tweets\r",
      "Loaded 50 tweets\n",
      "Accuracy: 0.85\n",
      "F-measure [neg]: 0.8235294117647058\n",
      "F-measure [pos]: 0.8695652173913044\n",
      "Precision [neg]: 1.0\n",
      "Precision [pos]: 0.7692307692307693\n",
      "Recall [neg]: 0.7\n",
      "Recall [pos]: 1.0\n"
     ]
    }
   ],
   "source": [
    "# Funny how vader performs way better on the nltk dataset\n",
    "# TODO look at code and dataset\n",
    "import nltk.sentiment.util\n",
    "nltk.sentiment.util.demo_vader_tweets(n_instances=100, output=None)"
   ]
  },
  {
   "cell_type": "code",
   "execution_count": null,
   "metadata": {
    "collapsed": true
   },
   "outputs": [],
   "source": []
  }
 ],
 "metadata": {
  "kernelspec": {
   "display_name": "Python 3",
   "language": "python",
   "name": "python3"
  },
  "language_info": {
   "codemirror_mode": {
    "name": "ipython",
    "version": 3
   },
   "file_extension": ".py",
   "mimetype": "text/x-python",
   "name": "python",
   "nbconvert_exporter": "python",
   "pygments_lexer": "ipython3",
   "version": "3.6.2"
  }
 },
 "nbformat": 4,
 "nbformat_minor": 2
}
